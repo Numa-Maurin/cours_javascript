{
 "cells": [
  {
   "cell_type": "markdown",
   "metadata": {},
   "source": [
    "# Sommaire\n",
    "\n",
    "1. [Introduction](#introduction)\n",
    "    1. [JavaScript, c'est quoi ?](#javascript-quoi)\n",
    "    2. [Principe client/serveur](#principe-client-serveur)\n",
    "2. [Les bases de JavaScript](#bases-javascript)\n",
    "    1. [Hello World](#hello-world)\n",
    "    2. [Les variables](#variables)\n",
    "    3. [Les nombres](#nombres)\n",
    "    4. [Les chaînes de caractères](#chaine-caracteres)\n",
    "    5. [Les fonctions](#fonctions)\n",
    "    6. [La manipulation de tableaux](#manipulation-tableaux)\n",
    "    7. [Les Map](#map)\n",
    "    8. [Les conditions](#conditions)\n",
    "    9. [Les boucles](#boucles)\n",
    "3. [La programmation orientée objet](#programmation-orientee-objet)\n",
    "    1. [La programmation objet avant ES6](#programmation-objet-avant-es6)\n",
    "    2. [La programmation objet après ES6](#programmation-objet-apres-es6)\n",
    "4. [L'intéractivité](#interactivite)\n",
    "    1. [La programmation événementielle](#programmation-evenementielle)\n",
    "    2. [Détection dans le code HTML](#detection-code-html)\n",
    "    3. [Détection par gestionnaire d'événements](#detection-gestionnaire-evenements)"
   ]
  },
  {
   "cell_type": "markdown",
   "metadata": {},
   "source": [
    "# Introduction <a name=\"introduction\"></a>\n",
    "\n",
    "## JavaScript, c'est quoi ? <a name=\"javascript-quoi\"></a>\n",
    "\n",
    "Le JavaScript (initialement appelé LiveScript) est un langage de programmation **orienté objet**, c'est-à-dire que les bases du langage et ses principales interfaces sont fournies par des objets. C'est langage **interprété** faisant appel à un programme, nommé interprètre ou moteur, permettant de traduire et d'exécuter les instructions directement à partir du code source. Un moteur JavaScript est généralement intégré aux navigateurs Web. \n",
    "\n",
    "<hr>\n",
    "<div>\n",
    "    <img src=\"images/idea.png\" alt=\"idea\" width=\"30\" style=\"float:left; margin-right:15px;\"/> \n",
    "</div>\n",
    "Le premier moteur JavaScript, SpiderMonkey, a été créé par l'informaticien américain Brendan Eich pour le navigateur Netscape Navigator. Il était programmé en langage C. De nos jours de nouveaux moteurs ont fait leur apparition comme le V8 JavaScript développé par Google.\n",
    "<hr>\n",
    "\n",
    "Le JavaScript date de 1995 et il a été standardisé à partir de 1997 par l'organisation ECMA International (*European Association for Standardizing Information*) sous le nom de ECMAScript. Aujourd'hui, Javascript, JS, ECMASript ou ES désignent le même langage et la dernière version en date est ECMAScript 2018 ([w3schools.com](https://www.w3schools.com/js/js_versions.asp)).\n",
    "\n",
    "Le JavaScript est employé:\n",
    "* Pour concevoir des pages Web interactives et dynamiques et des applications complètes au format Web (*One Page Application* grâce aux *frameworks* Angular, ReactJS ou VueJS).\n",
    "* Pour concevoir des logiciels de bureau (Electron.js).\n",
    "* Comme plateforme serveur (Node.js).\n",
    "\n",
    "\n",
    "## Principe client/serveur <a name=\"principe-client-serveur\"></a>\n",
    "\n",
    "<img src=\"images/client-serveur.jpeg\" alt=\"Client-Serveur\" style=\"margin-top:30px\"/>\n",
    "\n",
    "1. Le navigateur envoie une requête HTTP au serveur de google.fr.\n",
    "2. Le serveur construit le code HTML de la page demandée et le compresse.\n",
    "3. Le serveur envoie le code HTML dans une réponse à la requête HTTP du navigateur.\n",
    "4. Le navigateur reçoit en réponse le code HTML et le décompresse.\n",
    "5. Le navigateur interprète le code HTML ligne par ligne et commence l'affichage de la page.\n",
    "6. Le navigateur envoie de nouvelles requêtes vers le serveur pour chacun des éléments à charger (images, styles, scripts)\\*.\n",
    "7. Le rendu de la page est terminé.\n",
    "\n",
    "Le protocole HTTP/2 est une nouvelle version du protocole HTTP destinée à accélérer les transferts sur le réseau. Une seule requête peut maintenant contenir plusieurs ressources (images, vidéos, scripts, etc.) réduisant la latence et les temps de rendu de la page complète. \n",
    "\n",
    "<div style=\"text-align:center\">\n",
    "    <img src=\"images/http2.png\" alt=\"Client-Serveur\"/>\n",
    "    <span style=\"margin:auto\">Source: <a href=\"https://www.disko.fr/reflexions/technique/quest-ce-que-le-http2/\">disko.fr</a>.</span>\n",
    "</div>\n",
    "\n",
    "Tous les objets connectés à internet communiquent entre eux grâce à leur adresse IP. Le protocole DNS (*Domain Name System*) traduit les noms de domaine en leur adresse IP. Le navigateur fait ainsi appel aux serveur DNS du fournisseur d'accès pour trouver l'adresse IP du serveur de la page demandée."
   ]
  },
  {
   "cell_type": "markdown",
   "metadata": {},
   "source": [
    "# Les bases de JavaScript <a name=\"bases-javascript\"></a>\n",
    "\n",
    "Ce chapitre introduit toutes les notions de base liées au JavaScript et à sa syntaxe et au HTML5. Vous serez amenés à utiliser un éditeur de texte (*e.g.* l'éditeur [atom](https://atom.io/)) et un navigateur Web (*e.g.* Google Chrome). Au cours de ce chapitre différents exercices, symbolisés par l'image suivante, vous seront proposés.\n",
    "\n",
    "<img src=\"images/writing.png\" alt=\"writing\" width=\"30\"/>\n",
    "\n",
    "## *Hello World* <a name=\"hello-world\"></a>\n",
    "\n",
    "<hr>\n",
    "<div>\n",
    "    <img src=\"images/writing.png\" alt=\"writing\" width=\"30\" style=\"float:left; margin-right:15px;\"/> \n",
    "</div>\n",
    "Créer un fichier intitulé <i>hello1.html</i> et inscriver le code suivant. Ensuite, accéder à la console de développement de votre navigateur (généralement F12).\n",
    "<hr>"
   ]
  },
  {
   "cell_type": "code",
   "execution_count": 7,
   "metadata": {},
   "outputs": [
    {
     "data": {
      "text/html": [
       "<html>\n",
       "  <head>\n",
       "    <title>Hello World</title>\n",
       "  </head>\n",
       "  <body>\n",
       "    <script type=\"text/javascript\">\n",
       "      // Commentaire du code JavaScript.\n",
       "      console.log(\"Hello World\");\n",
       "    </script>\n",
       "  </body>\n",
       "</html>\n"
      ],
      "text/plain": [
       "<IPython.core.display.HTML object>"
      ]
     },
     "metadata": {},
     "output_type": "display_data"
    }
   ],
   "source": [
    "%%HTML\n",
    "<html>\n",
    "  <head>\n",
    "    <title>Hello World</title>\n",
    "  </head>\n",
    "  <body>\n",
    "    <script type=\"text/javascript\">\n",
    "      // Un premier commentaire en JavaScript.\n",
    "      /*\n",
    "         Un seconde commentaire\n",
    "         en Javascript.\n",
    "      */\n",
    "      console.log(\"Hello World\");\n",
    "    </script>\n",
    "  </body>\n",
    "</html>"
   ]
  },
  {
   "cell_type": "markdown",
   "metadata": {},
   "source": [
    "Tirons des enseignements de l'exemple ci-dessus:\n",
    "* Une page HTML est constituée d'une balise &lt;head&gt; contenant tous les éléments de l’en-tête du document et d'une balise &lt;body&gt; représentant le contenu du document.\n",
    "* Le code JavaScript est intégré au code HTML classique d'une page Web.\n",
    "* Le JavaScript est placé dans le bloc marqué par les balises &lt;script&gt;.\n",
    "* Les deux façons d'ajouter un commentaire au sein d'un code JavaScript (// et /* */).\n",
    "* Le code JavaScript exploite la fonction *log()* de l'objet *console* pour afficher un message au sein de la console du navigateur.\n",
    "* Une instruction JavaScript se termine par un point-virgule (lorsqu'il n'est pas explicitement indiqué l'interprète exploite l'ASI (*Automatic Semicolon Insertion*) pour automatiquement ajouter les point-virgules. Cependant, prenez garde."
   ]
  },
  {
   "cell_type": "code",
   "execution_count": 13,
   "metadata": {},
   "outputs": [
    {
     "data": {
      "application/javascript": [
       "element.text((1+2).toString());\n"
      ],
      "text/plain": [
       "<IPython.core.display.Javascript object>"
      ]
     },
     "metadata": {},
     "output_type": "display_data"
    }
   ],
   "source": [
    "%%javascript\n",
    "element.text((1+2).toString());"
   ]
  },
  {
   "cell_type": "code",
   "execution_count": 12,
   "metadata": {},
   "outputs": [
    {
     "data": {
      "application/javascript": [
       "const a = 1\n",
       "const b = 2\n",
       "const c = a + b\n",
       "(a + b).toString()\n"
      ],
      "text/plain": [
       "<IPython.core.display.Javascript object>"
      ]
     },
     "metadata": {},
     "output_type": "display_data"
    }
   ],
   "source": [
    "%%javascript\n",
    "const a = 1\n",
    "const b = 2\n",
    "const c = a + b\n",
    "(a + b).toString()"
   ]
  },
  {
   "cell_type": "markdown",
   "metadata": {},
   "source": [
    "Nous obtenons une erreur car JavaScript tente d'exécuter le code suivant."
   ]
  },
  {
   "cell_type": "code",
   "execution_count": 11,
   "metadata": {},
   "outputs": [
    {
     "data": {
      "application/javascript": [
       "const a = 1\n",
       "const b = 2\n",
       "const c = a + b(a + b).toString()\n"
      ],
      "text/plain": [
       "<IPython.core.display.Javascript object>"
      ]
     },
     "metadata": {},
     "output_type": "display_data"
    }
   ],
   "source": [
    "%%javascript\n",
    "const a = 1\n",
    "const b = 2\n",
    "const c = a + b(a + b).toString()"
   ]
  },
  {
   "cell_type": "markdown",
   "metadata": {},
   "source": [
    "<hr>\n",
    "<div>\n",
    "    <img src=\"images/danger.png\" alt=\"danger\" width=\"30\" style=\"float:left; margin-right:15px;\"/> \n",
    "</div>\n",
    "L'instruction <i>element.text</i> n'appartient pas à JavaScript, elle est proposée par Jupyter pour afficher un résultat de JavaScript. Vous pouvez utiliser à la place <i>console.log()</i> pour afficher un message dans la console ou <i>alert()</i> pour afficher un message dans une <i>pop-up</i>.\n",
    "\n",
    "<hr>"
   ]
  },
  {
   "cell_type": "code",
   "execution_count": 58,
   "metadata": {},
   "outputs": [
    {
     "data": {
      "text/html": [
       "<html>\n",
       "  <head>\n",
       "    <title>Hello World</title>\n",
       "  </head>\n",
       "  <body>\n",
       "    <div id=\"txt\"></div>\n",
       "    <script type=\"text/javascript\">\n",
       "      console.log(\"Hello World\");\n",
       "      alert(\"Hello World\");\n",
       "      document.getElementById(\"txt\").innerHTML = \"Hello World\";\n",
       "    </script>\n",
       "  </body>\n",
       "</html>\n"
      ],
      "text/plain": [
       "<IPython.core.display.HTML object>"
      ]
     },
     "metadata": {},
     "output_type": "display_data"
    }
   ],
   "source": [
    "%%HTML\n",
    "<html>\n",
    "  <head>\n",
    "    <title>Hello World</title>\n",
    "  </head>\n",
    "  <body>\n",
    "    <div id=\"txt\"></div>\n",
    "    <script type=\"text/javascript\">\n",
    "      console.log(\"Hello World\");\n",
    "      alert(\"Hello World\");\n",
    "      document.getElementById(\"txt\").innerHTML = \"Hello World\";\n",
    "    </script>\n",
    "  </body>\n",
    "</html>"
   ]
  },
  {
   "cell_type": "markdown",
   "metadata": {},
   "source": [
    "## Les variables <a name=\"variables\"></a>\n",
    "\n",
    "Une variable est une zone de mémoire destinée à stocker une information. Elle est définit par un nom qui doit commencer par une lettre et pouvant contenir ensuite des lettres, en majuscules ou en minuscules, des chiffres et certains caractères spéciaux comme l'*underscore* \\_. Le caractère tiret \"-\" n'est pas autorisé car il correspond à l'opérateur de soustraction (de même pour le symbole \\*). Le nom d'une variable ne peut être un mot réservé par le langage comme *var*, *if* ou *window*.\n",
    "\n",
    "<hr>\n",
    "<div>\n",
    "    <img src=\"images/danger.png\" alt=\"danger\" width=\"30\" style=\"float:left; margin-right:15px;\"/> \n",
    "</div>\n",
    "Sensibilité à la casse (majuscule/minuscule).\n",
    "\n",
    "<hr>\n",
    "\n",
    "### Déclaration de variables\n",
    "\n",
    "La phase de création d'une variable est appelée *déclaration*. Tandis que la phase où une valeur est attribuée à une variable est appelée *Instanciation*. En JavaScript, il existe 2 mots-clés pour déclarer une variable <u>*var*</u> et <u>*let*</u>."
   ]
  },
  {
   "cell_type": "code",
   "execution_count": 26,
   "metadata": {},
   "outputs": [
    {
     "data": {
      "application/javascript": [
       "var compteur1 = 0;\n",
       "var compteur2 = 0, texte = \"Hello\", maxi;\n",
       "maxi = 100;\n"
      ],
      "text/plain": [
       "<IPython.core.display.Javascript object>"
      ]
     },
     "metadata": {},
     "output_type": "display_data"
    }
   ],
   "source": [
    "%%javascript\n",
    "var compteur1 = 0;\n",
    "var compteur2 = 0, texte = \"Hello\", maxi;\n",
    "maxi = 100;"
   ]
  },
  {
   "cell_type": "markdown",
   "metadata": {},
   "source": [
    "La différence entre les deux notations réside sur la portée de la variable au sein du code. Le mot-clé *var* permet de déclarer une variable visible dans l'ensemble du code. \n",
    "\n",
    "<hr>\n",
    "<div>\n",
    "    <img src=\"images/idea.png\" alt=\"idea\" width=\"30\" style=\"float:left; margin-right:15px;\"/> \n",
    "</div>\n",
    "La <b>portée</b> d'une variable est l'ensemble des éléments du code source où la variable existe et est manipulable.\n",
    "<hr>"
   ]
  },
  {
   "cell_type": "code",
   "execution_count": 29,
   "metadata": {},
   "outputs": [
    {
     "data": {
      "application/javascript": [
       "for(var i = 0; i < 2; i++){\n",
       "    element.append(i + \"<br>\");\n",
       "}\n",
       "element.append(\"La variable i = \" + i);\n"
      ],
      "text/plain": [
       "<IPython.core.display.Javascript object>"
      ]
     },
     "metadata": {},
     "output_type": "display_data"
    }
   ],
   "source": [
    "%%javascript\n",
    "for(var i = 0; i < 2; i++){\n",
    "    element.append(i + \"<br>\");\n",
    "}\n",
    "element.append(\"La variable i = \" + i);"
   ]
  },
  {
   "cell_type": "markdown",
   "metadata": {},
   "source": [
    "Tandis que le mot-clé *let* permet de déclarer des variables visibles uniquement au sein du bloc d'instructions dans lequel elle a été définie."
   ]
  },
  {
   "cell_type": "code",
   "execution_count": 33,
   "metadata": {},
   "outputs": [
    {
     "data": {
      "application/javascript": [
       "for(let i = 0; i < 2; i++){\n",
       "    element.append(`${i} <br>`);\n",
       "}\n",
       "element.append(\"La variable i = \" + i);\n"
      ],
      "text/plain": [
       "<IPython.core.display.Javascript object>"
      ]
     },
     "metadata": {},
     "output_type": "display_data"
    }
   ],
   "source": [
    "%%javascript\n",
    "for(let i = 0; i < 2; i++){\n",
    "    element.append(`${i} <br>`);\n",
    "}\n",
    "element.append(\"La variable i = \" + i);"
   ]
  },
  {
   "cell_type": "markdown",
   "metadata": {},
   "source": [
    "<hr>\n",
    "<div>\n",
    "    <img src=\"images/idea.png\" alt=\"idea\" width=\"30\" style=\"float:left; margin-right:15px;\"/> \n",
    "</div>\n",
    "Pour afficer du texte avec des variables, vous pouvez utiliser la concaténation avec le symbole \"+\" ou alors la syntaxe (instaurée lors de la version ES6) avec les <i>backquote<i>.\n",
    "<hr>"
   ]
  },
  {
   "cell_type": "code",
   "execution_count": 56,
   "metadata": {},
   "outputs": [
    {
     "data": {
      "application/javascript": [
       "var nom = \"Arthur\";\n",
       "element.append(\"Vive le roi \" + nom + \". <br>\");\n",
       "element.append(`Vive le roi ${nom}. <br>`);\n"
      ],
      "text/plain": [
       "<IPython.core.display.Javascript object>"
      ]
     },
     "metadata": {},
     "output_type": "display_data"
    }
   ],
   "source": [
    "%%javascript\n",
    "var nom = \"Arthur\";\n",
    "element.append(\"Vive le roi \" + nom + \". <br>\");\n",
    "element.append(`Vive le roi ${nom}. <br>`);"
   ]
  },
  {
   "cell_type": "markdown",
   "metadata": {},
   "source": [
    "Le mot-clé *let* protège les variables déjà déclarées dans le bloc d'être écrasées."
   ]
  },
  {
   "cell_type": "code",
   "execution_count": 54,
   "metadata": {},
   "outputs": [
    {
     "data": {
      "application/javascript": [
       "var x = 0;\n",
       "var x = 1;\n",
       "element.append(x + \"<br>\");\n"
      ],
      "text/plain": [
       "<IPython.core.display.Javascript object>"
      ]
     },
     "metadata": {},
     "output_type": "display_data"
    }
   ],
   "source": [
    "%%javascript\n",
    "var x = 0;\n",
    "var x = 1;\n",
    "element.append(x + \"<br>\");"
   ]
  },
  {
   "cell_type": "code",
   "execution_count": 55,
   "metadata": {},
   "outputs": [
    {
     "data": {
      "application/javascript": [
       "let y = 0;\n",
       "let y = 1;\n",
       "element.append(y + \"<br>\");\n"
      ],
      "text/plain": [
       "<IPython.core.display.Javascript object>"
      ]
     },
     "metadata": {},
     "output_type": "display_data"
    }
   ],
   "source": [
    "%%javascript\n",
    "let y = 0;\n",
    "let y = 1;\n",
    "element.append(y + \"<br>\");"
   ]
  },
  {
   "cell_type": "markdown",
   "metadata": {},
   "source": [
    "### Types de variables\n",
    "\n",
    "Le langage JavaScript est faiblement typé, c'est-à-dire qu'il autorise une variable à contenir n'importe quel type de données et à en changer en cours d'exécution. L'opérateur *typeof* permet d'identifier la nature d'une variable."
   ]
  },
  {
   "cell_type": "code",
   "execution_count": 41,
   "metadata": {
    "scrolled": true
   },
   "outputs": [
    {
     "data": {
      "application/javascript": [
       "var a = 2;\n",
       "element.append(`${typeof a} <br>`);\n",
       "a = a + \"3\";\n",
       "element.append(`${a} <br> ${typeof a}`);\n",
       "var b;\n",
       "element.append(`<br> ${typeof b}`);\n"
      ],
      "text/plain": [
       "<IPython.core.display.Javascript object>"
      ]
     },
     "metadata": {},
     "output_type": "display_data"
    }
   ],
   "source": [
    "%%javascript\n",
    "var a = 2;\n",
    "element.append(`${typeof a} <br>`);\n",
    "a = a + \"3\";\n",
    "element.append(`${a} <br> ${typeof a}`);\n",
    "var b;\n",
    "element.append(`<br> ${typeof b}`);"
   ]
  },
  {
   "cell_type": "markdown",
   "metadata": {},
   "source": [
    "En JavaScript, tout est objet (ou doit être au moins traité comme tel), excepté pour les primitives.\n",
    "\n",
    "JavaScript présente les primitives suivantes:\n",
    "* **undefined** par exemple lorsqu'une variable est déclarée sans être initialisée.\n",
    "* **number** qui englobe tous les différents types de nombres (*integer*, *float*, *double*, etc.).\n",
    "* **string** désignant les chaînes de caractères.\n",
    "* **boolean** pour symboliser les états *true* et *false*.\n",
    "* **null** représente la nullité au sens où aucune valeur pour l'objet n'est présente (une variable déclarée peut être instanciée à *null*).\n",
    "* **symbol** représente une donnée unique et inchangeable qui peut être utilisée afin de représenter des identifiants pour des propriétés d'un objet.\n",
    "\n",
    "null is an assigned value. It means nothing.\n",
    "undefined means a variable has been declared but not defined yet.\n",
    "\n",
    "<hr>\n",
    "<div>\n",
    "    <img src=\"images/danger.png\" alt=\"danger\" width=\"30\" style=\"float:left; margin-right:15px;\"/> \n",
    "</div>\n",
    "L'opérateur <i>typeof</i> affiche le type <i>object</i> pour une variable instanciée avec le type <i>null</i> (un <a href=\"https://stackoverflow.com/questions/18808226/why-is-typeof-null-object\">comportement historique</a> de JavaScript).\n",
    "\n",
    "<hr>"
   ]
  },
  {
   "cell_type": "code",
   "execution_count": 21,
   "metadata": {},
   "outputs": [
    {
     "data": {
      "application/javascript": [
       "var test = null == undefined;\n",
       "element.append(\"null == undefined: \" + test + \"<br>\"); // Représente tous les deux une valeur fausse (falsy).\n",
       "test = null === undefined;\n",
       "element.append(\"null === undefined: \" + test + \"<br>\");\n",
       "test = typeof null;\n",
       "element.append(\"typeof null: \" + test + \"<br>\");\n"
      ],
      "text/plain": [
       "<IPython.core.display.Javascript object>"
      ]
     },
     "metadata": {},
     "output_type": "display_data"
    }
   ],
   "source": [
    "%%javascript\n",
    "var test = null == undefined;\n",
    "element.append(\"null == undefined: \" + test + \"<br>\"); // Représente tous les deux une valeur fausse (falsy).\n",
    "test = null === undefined;\n",
    "element.append(\"null === undefined: \" + test + \"<br>\");\n",
    "test = typeof null;\n",
    "element.append(\"typeof null: \" + test + \"<br>\");"
   ]
  },
  {
   "cell_type": "markdown",
   "metadata": {},
   "source": [
    "<hr>\n",
    "<div>\n",
    "    <img src=\"images/idea.png\" alt=\"idea\" width=\"30\" style=\"float:left; margin-right:15px;\"/> \n",
    "</div>\n",
    "L'opérateur \"==\" teste l'égalité de valeur entre deux variables et l'opérateur \"===\" teste l'égalité de valeur et de type entre deux variables.\n",
    "<hr>\n",
    "\n",
    "### Constantes\n",
    "\n",
    "Une constante est comparable à une valeur qui ne peut être modifiée une fois créée. Elle nécessite une valeur d'initialisation obligatoire."
   ]
  },
  {
   "cell_type": "code",
   "execution_count": 69,
   "metadata": {},
   "outputs": [
    {
     "data": {
      "application/javascript": [
       "const a = 2;\n",
       "element.text(a);\n",
       "a = 3;\n"
      ],
      "text/plain": [
       "<IPython.core.display.Javascript object>"
      ]
     },
     "metadata": {},
     "output_type": "display_data"
    }
   ],
   "source": [
    "%%javascript\n",
    "const a = 2;\n",
    "element.text(a);\n",
    "a = 3;"
   ]
  },
  {
   "cell_type": "code",
   "execution_count": 70,
   "metadata": {},
   "outputs": [
    {
     "data": {
      "application/javascript": [
       "const TABLEAU = [1,2,3];\n",
       "TABLEAU = [2,1,3];\n"
      ],
      "text/plain": [
       "<IPython.core.display.Javascript object>"
      ]
     },
     "metadata": {},
     "output_type": "display_data"
    }
   ],
   "source": [
    "%%javascript\n",
    "const TABLEAU = [1,2,3];\n",
    "TABLEAU = [2,1,3];"
   ]
  },
  {
   "cell_type": "code",
   "execution_count": 72,
   "metadata": {},
   "outputs": [
    {
     "data": {
      "application/javascript": [
       "const TABLEAU = [1,2,3];\n",
       "TABLEAU[0] = 2;\n",
       "element.append(TABLEAU.toString());\n"
      ],
      "text/plain": [
       "<IPython.core.display.Javascript object>"
      ]
     },
     "metadata": {},
     "output_type": "display_data"
    }
   ],
   "source": [
    "%%javascript\n",
    "const TABLEAU = [1,2,3];\n",
    "TABLEAU[0] = 2;\n",
    "element.append(TABLEAU.toString());"
   ]
  },
  {
   "cell_type": "markdown",
   "metadata": {},
   "source": [
    "## Les nombres <a name=\"nombres\"></a>\n",
    "\n",
    "### Opérations élémentaires"
   ]
  },
  {
   "cell_type": "code",
   "execution_count": 65,
   "metadata": {},
   "outputs": [
    {
     "data": {
      "application/javascript": [
       "var a = 3 + 2;\n",
       "var b = 4 * 2;\n",
       "var c = 5 / 2;\n",
       "var d = 6 % 2;\n",
       "element.text(`${a}; ${b}; ${c}; ${d}`);\n"
      ],
      "text/plain": [
       "<IPython.core.display.Javascript object>"
      ]
     },
     "metadata": {},
     "output_type": "display_data"
    }
   ],
   "source": [
    "%%javascript\n",
    "var a = 3 + 2;\n",
    "var b = 4 * 2;\n",
    "var c = 5 / 2;\n",
    "var d = 6 % 2;\n",
    "element.text(`${a}; ${b}; ${c}; ${d}`);"
   ]
  },
  {
   "cell_type": "markdown",
   "metadata": {},
   "source": [
    "### Incrémentation et décrémentation"
   ]
  },
  {
   "cell_type": "code",
   "execution_count": 64,
   "metadata": {},
   "outputs": [
    {
     "data": {
      "application/javascript": [
       "var a = 1;\n",
       "a = a + 1;\n",
       "a += 1;\n",
       "a++;\n",
       "a = a - 1;\n",
       "a -= 1;\n",
       "a--;\n",
       "element.append(`a = ${a} <br>`);\n",
       "a *= 2;\n",
       "element.append(`a = ${a} <br>`);\n",
       "a /= 2;\n",
       "element.append(`a = ${a} <br>`);\n"
      ],
      "text/plain": [
       "<IPython.core.display.Javascript object>"
      ]
     },
     "metadata": {},
     "output_type": "display_data"
    }
   ],
   "source": [
    "%%javascript\n",
    "var a = 1;\n",
    "a = a + 1;\n",
    "a += 1;\n",
    "a++;\n",
    "a = a - 1;\n",
    "a -= 1;\n",
    "a--;\n",
    "element.append(`a = ${a} <br>`);\n",
    "a *= 2;\n",
    "element.append(`a = ${a} <br>`);\n",
    "a /= 2;\n",
    "element.append(`a = ${a} <br>`);"
   ]
  },
  {
   "cell_type": "markdown",
   "metadata": {},
   "source": [
    "### Conversion de types"
   ]
  },
  {
   "cell_type": "code",
   "execution_count": 100,
   "metadata": {},
   "outputs": [
    {
     "data": {
      "application/javascript": [
       "var nombre = \"3.14abc\";\n",
       "element.append(typeof nombre + \"<br>\");\n",
       "element.append(parseInt(nombre) + \" est un \" + typeof parseInt(nombre) + \"<br>\");\n",
       "element.append(parseFloat(nombre) + \" est un \" + typeof parseFloat(nombre) + \"<br>\");\n"
      ],
      "text/plain": [
       "<IPython.core.display.Javascript object>"
      ]
     },
     "metadata": {},
     "output_type": "display_data"
    }
   ],
   "source": [
    "%%javascript\n",
    "var nombre = \"3.14abc\";\n",
    "element.append(typeof nombre + \"<br>\");\n",
    "element.append(parseInt(nombre) + \" est un \" + typeof parseInt(nombre) + \"<br>\");\n",
    "element.append(parseFloat(nombre) + \" est un \" + typeof parseFloat(nombre) + \"<br>\");"
   ]
  },
  {
   "cell_type": "markdown",
   "metadata": {},
   "source": [
    "## Les chaînes de caractères <a name=\"chaine-caracteres\"></a>\n",
    "\n",
    "Une chaîne de caractères est une succession ordonnée de caractères de texte. Une chaîne est matérialisée par des séparateurs qui indiquent le début et la fin de la chaîne. Une chaîne ne contenant aucun caractère est une chaîne vide. De plus, les chaînes de caractères en JavaScript sont non mutables (contrairement à Python par exemple).\n",
    "\n",
    "### Déclarer une chaîne de caractères"
   ]
  },
  {
   "cell_type": "code",
   "execution_count": 74,
   "metadata": {},
   "outputs": [
    {
     "data": {
      "application/javascript": [
       "var a = \"Chaîne de caractères.\";\n",
       "var b = 'Chaîne de \"caractères\".';\n",
       "var c = \"Chaîne de \\\"caractères\\\".\";\n",
       "var d = `Cha'î'ne de \"caractères\".`;\n",
       "element.append(`${a} <br> ${b} <br> ${c} <br>`);\n",
       "element.append(d);\n"
      ],
      "text/plain": [
       "<IPython.core.display.Javascript object>"
      ]
     },
     "metadata": {},
     "output_type": "display_data"
    }
   ],
   "source": [
    "%%javascript\n",
    "var a = \"Chaîne de caractères.\";\n",
    "var b = 'Chaîne de \"caractères\".';\n",
    "var c = \"Chaîne de \\\"caractères\\\".\";\n",
    "var d = `Cha'î'ne de \"caractères\".`;\n",
    "element.append(`${a} <br> ${b} <br> ${c} <br>`);\n",
    "element.append(d);"
   ]
  },
  {
   "cell_type": "markdown",
   "metadata": {},
   "source": [
    "### Conversion de types\n",
    "\n",
    "Une chaîne de caractères peut aussi être créee à partir de tout objet JavaScript et de sa méthode de conversion vers une chaîne *toString()*."
   ]
  },
  {
   "cell_type": "code",
   "execution_count": 80,
   "metadata": {},
   "outputs": [
    {
     "data": {
      "application/javascript": [
       "var date = new Date();\n",
       "var nombre1 = 2;\n",
       "var nombre2 = 2 + \"\"\n",
       "var tableau = [1,2,3];\n",
       "element.text(date.toString() + \" | \" + nombre1.toString() + \" | \" + typeof nombre2 + \" | \" + tableau.toString());\n"
      ],
      "text/plain": [
       "<IPython.core.display.Javascript object>"
      ]
     },
     "metadata": {},
     "output_type": "display_data"
    }
   ],
   "source": [
    "%%javascript\n",
    "var date = new Date();\n",
    "var nombre1 = 2;\n",
    "var nombre2 = 2 + \"\"\n",
    "var tableau = [1,2,3];\n",
    "element.text(date.toString() + \" | \" + nombre1.toString() + \" | \" + typeof nombre2 + \" | \" + tableau.toString());"
   ]
  },
  {
   "cell_type": "markdown",
   "metadata": {},
   "source": [
    "### Concaténation de chaînes"
   ]
  },
  {
   "cell_type": "code",
   "execution_count": 78,
   "metadata": {},
   "outputs": [
    {
     "data": {
      "application/javascript": [
       "var str1 = \"Java\";\n",
       "var str2 = \"Script\";\n",
       "var str3 = str1 + str2;\n",
       "element.append(`${str3} <br>`);\n",
       "str1 += str2;\n",
       "element.append(`${str1} <br>`);\n"
      ],
      "text/plain": [
       "<IPython.core.display.Javascript object>"
      ]
     },
     "metadata": {},
     "output_type": "display_data"
    }
   ],
   "source": [
    "%%javascript\n",
    "var str1 = \"Java\";\n",
    "var str2 = \"Script\";\n",
    "var str3 = str1 + str2;\n",
    "element.append(`${str3} <br>`);\n",
    "str1 += str2;\n",
    "element.append(`${str1} <br>`);"
   ]
  },
  {
   "cell_type": "markdown",
   "metadata": {},
   "source": [
    "### Méthodes associées à l'objet *String*\n",
    "\n",
    "Une chaîne de caractères possèdent les propriétés et les méthodes issues de l'objet *String*. Vous pouvez retrouver l'ensemble des méthodes sur le site de [developer.mozilla.org](https://developer.mozilla.org/fr/docs/Web/JavaScript/Reference/Objets_globaux/String)."
   ]
  },
  {
   "cell_type": "markdown",
   "metadata": {},
   "source": [
    "#### Longueur d'une chaîne"
   ]
  },
  {
   "cell_type": "code",
   "execution_count": 81,
   "metadata": {},
   "outputs": [
    {
     "data": {
      "application/javascript": [
       "var str = \"JavaScript\";\n",
       "element.append(str.length + \"<br>\");\n",
       "element.append(\"str\".length + \"<br>\");\n",
       "element.append(\"\".length + \"<br>\");\n"
      ],
      "text/plain": [
       "<IPython.core.display.Javascript object>"
      ]
     },
     "metadata": {},
     "output_type": "display_data"
    }
   ],
   "source": [
    "%%javascript\n",
    "var str = \"JavaScript\";\n",
    "element.append(str.length + \"<br>\");\n",
    "element.append(\"str\".length + \"<br>\");\n",
    "element.append(\"\".length + \"<br>\");"
   ]
  },
  {
   "cell_type": "markdown",
   "metadata": {},
   "source": [
    "#### Majuscules et minuscules"
   ]
  },
  {
   "cell_type": "code",
   "execution_count": 83,
   "metadata": {},
   "outputs": [
    {
     "data": {
      "application/javascript": [
       "var msg = \"JavaScript\";\n",
       "element.append(msg.toUpperCase() + \"<br>\");\n",
       "element.append(msg.toLowerCase());\n"
      ],
      "text/plain": [
       "<IPython.core.display.Javascript object>"
      ]
     },
     "metadata": {},
     "output_type": "display_data"
    }
   ],
   "source": [
    "%%javascript\n",
    "var msg = \"JavaScript\";\n",
    "element.append(msg.toUpperCase() + \"<br>\");\n",
    "element.append(msg.toLowerCase());"
   ]
  },
  {
   "cell_type": "markdown",
   "metadata": {},
   "source": [
    "#### Nettoyer une chaîne de caractères\n",
    "\n",
    "La méthode *trim()* permet de nettoyer la chaîne de ses caractères inutiles en début et en fin en supprimant les espaces, tabulations et retour chariot."
   ]
  },
  {
   "cell_type": "markdown",
   "metadata": {},
   "source": [
    "#### Accéder à un caractère précis"
   ]
  },
  {
   "cell_type": "code",
   "execution_count": 89,
   "metadata": {},
   "outputs": [
    {
     "data": {
      "application/javascript": [
       "var msg = \"Javascript !\";\n",
       "element.append(msg[0] + \"<br>\");\n",
       "element.append(msg.charAt(0) + \"<br>\");\n"
      ],
      "text/plain": [
       "<IPython.core.display.Javascript object>"
      ]
     },
     "metadata": {},
     "output_type": "display_data"
    }
   ],
   "source": [
    "%%javascript\n",
    "var msg = \"Javascript !\";\n",
    "element.append(msg[0] + \"<br>\");\n",
    "element.append(msg.charAt(0) + \"<br>\");"
   ]
  },
  {
   "cell_type": "markdown",
   "metadata": {},
   "source": [
    "#### Rechercher dans une chaîne"
   ]
  },
  {
   "cell_type": "code",
   "execution_count": 94,
   "metadata": {},
   "outputs": [
    {
     "data": {
      "application/javascript": [
       "var msg = \"ouagadougou\";\n",
       "element.append(msg.lastIndexOf(\"ou\") + \"<br>\");\n",
       "element.append(msg.indexOf(\"ou\") + \"<br>\");\n",
       "element.append(msg.indexOf(\"ou\", 8)); // À partir d'un indice donné (ici 8).\n"
      ],
      "text/plain": [
       "<IPython.core.display.Javascript object>"
      ]
     },
     "metadata": {},
     "output_type": "display_data"
    }
   ],
   "source": [
    "%%javascript\n",
    "var msg = \"ouagadougou\";\n",
    "element.append(msg.lastIndexOf(\"ou\") + \"<br>\");\n",
    "element.append(msg.indexOf(\"ou\") + \"<br>\");\n",
    "element.append(msg.indexOf(\"ou\", 8)); // À partir d'un indice donné (ici 8)."
   ]
  },
  {
   "cell_type": "markdown",
   "metadata": {},
   "source": [
    "#### Extraire une sous-chaîne"
   ]
  },
  {
   "cell_type": "code",
   "execution_count": 96,
   "metadata": {},
   "outputs": [
    {
     "data": {
      "application/javascript": [
       "var msg = \"JavaScript\";\n",
       "element.append(msg.substring(0, 4) + \"<br>\");\n",
       "element.append(msg.substring(4));\n"
      ],
      "text/plain": [
       "<IPython.core.display.Javascript object>"
      ]
     },
     "metadata": {},
     "output_type": "display_data"
    }
   ],
   "source": [
    "%%javascript\n",
    "var msg = \"JavaScript\";\n",
    "element.append(msg.substring(0, 4) + \"<br>\");\n",
    "element.append(msg.substring(4));"
   ]
  },
  {
   "cell_type": "markdown",
   "metadata": {},
   "source": [
    "<hr>\n",
    "<div>\n",
    "    <img src=\"images/writing.png\" alt=\"writing\" width=\"30\" style=\"float:left; margin-right:15px;\"/> \n",
    "</div>\n",
    "Afficher en majuscule le dernier caractère de la chaîne \"JavaScript\".\n",
    "<hr>\n",
    "\n",
    "<hr>\n",
    "<div>\n",
    "    <img src=\"images/writing.png\" alt=\"writing\" width=\"30\" style=\"float:left; margin-right:15px;\"/> \n",
    "</div>\n",
    "Afficher les caractères \"JS\" à partir de la chaîne \"JavaScript\".\n",
    "<hr>"
   ]
  },
  {
   "cell_type": "markdown",
   "metadata": {},
   "source": [
    "## Les fonctions <a name=\"fonctions\"></a>\n",
    "\n",
    "Une fonction est un ensemble de traitements réutilisables pouvant être effectués à partir de paramètres et pouvant retourner un résultat. L'intérêt d'une fonction est de décrire un ensemble d'instruction que l'on peut utiliser autant de fois que l'on veut sans réécrire les même lignes de code. \n",
    "\n",
    "### Fonctions natives et personalisées\n",
    "\n",
    "JavaScript a des fonctions natives *e.g.* les fonctions *lastIndexOf()* ou *indexOf()* que nous venons de voir et permet de créer des fonctions personnalisées.\n"
   ]
  },
  {
   "cell_type": "code",
   "execution_count": 1,
   "metadata": {},
   "outputs": [
    {
     "data": {
      "application/javascript": [
       "function direBonjour(){\n",
       "    element.text(\"Bonjour !\");\n",
       "}\n",
       "direBonjour();\n"
      ],
      "text/plain": [
       "<IPython.core.display.Javascript object>"
      ]
     },
     "metadata": {},
     "output_type": "display_data"
    }
   ],
   "source": [
    "%%javascript\n",
    "function direBonjour(){\n",
    "    element.text(\"Bonjour !\");\n",
    "}\n",
    "direBonjour();"
   ]
  },
  {
   "cell_type": "code",
   "execution_count": 139,
   "metadata": {},
   "outputs": [
    {
     "data": {
      "application/javascript": [
       "function direBonjour(nom){\n",
       "    return \"Bonjour \" + nom + \"!\";\n",
       "}\n",
       "element.text(direBonjour(\"Arthur\"));\n"
      ],
      "text/plain": [
       "<IPython.core.display.Javascript object>"
      ]
     },
     "metadata": {},
     "output_type": "display_data"
    }
   ],
   "source": [
    "%%javascript\n",
    "function direBonjour(nom){\n",
    "    return \"Bonjour \" + nom + \"!\";\n",
    "}\n",
    "element.text(direBonjour(\"Arthur\"));"
   ]
  },
  {
   "cell_type": "code",
   "execution_count": 141,
   "metadata": {},
   "outputs": [
    {
     "data": {
      "application/javascript": [
       "function direBonjour(nom, age = 32){\n",
       "    return \"Bonjour \" + nom + \", tu as \" + age + \"ans!\";\n",
       "}\n",
       "element.append(direBonjour(\"Arthur\")+ \"<br>\");\n",
       "element.append(direBonjour(\"Merlin\", 884));\n"
      ],
      "text/plain": [
       "<IPython.core.display.Javascript object>"
      ]
     },
     "metadata": {},
     "output_type": "display_data"
    }
   ],
   "source": [
    "%%javascript\n",
    "function direBonjour(nom, age = 32){\n",
    "    return \"Bonjour \" + nom + \", tu as \" + age + \"ans!\";\n",
    "}\n",
    "element.append(direBonjour(\"Arthur\")+ \"<br>\");\n",
    "element.append(direBonjour(\"Merlin\", 884));"
   ]
  },
  {
   "cell_type": "code",
   "execution_count": 5,
   "metadata": {},
   "outputs": [
    {
     "data": {
      "application/javascript": [
       "var age = 22; // Variable globale.\n",
       "function direBonjour(nom){\n",
       "    var citation = \"Pas changer assiette pour fromage !\";\n",
       "    age++;\n",
       "    return \"Bonjour \" + nom + \", tu as \" + age + \"ans! \" + citation;\n",
       "}\n",
       "element.append(direBonjour(\"Arthur\", age) + \"<br>\");\n",
       "element.append(direBonjour(\"Merlin\", 884) + \"<br>\");\n",
       "element.append(citation);\n"
      ],
      "text/plain": [
       "<IPython.core.display.Javascript object>"
      ]
     },
     "metadata": {},
     "output_type": "display_data"
    }
   ],
   "source": [
    "%%javascript\n",
    "var age = 22; // Variable globale.\n",
    "function direBonjour(nom){\n",
    "    var citation = \"Pas changer assiette pour fromage !\"; // Variable locale.\n",
    "    age++;\n",
    "    return \"Bonjour \" + nom + \", tu as \" + age + \"ans! \" + citation;\n",
    "}\n",
    "element.append(direBonjour(\"Arthur\", age) + \"<br>\");\n",
    "element.append(direBonjour(\"Merlin\", 884) + \"<br>\");\n",
    "element.append(citation);"
   ]
  },
  {
   "cell_type": "code",
   "execution_count": 71,
   "metadata": {},
   "outputs": [
    {
     "data": {
      "application/javascript": [
       "function estMajeur(age){\n",
       "    return age >= 18;\n",
       "}\n",
       "element.append(estMajeur(17) + \"<br>\");\n",
       "element.append(estMajeur(18) + \"<br>\");\n"
      ],
      "text/plain": [
       "<IPython.core.display.Javascript object>"
      ]
     },
     "metadata": {},
     "output_type": "display_data"
    }
   ],
   "source": [
    "%%javascript\n",
    "function estMajeur(age){\n",
    "    return age >= 18;\n",
    "}\n",
    "element.append(estMajeur(17) + \"<br>\");\n",
    "element.append(estMajeur(18) + \"<br>\");"
   ]
  },
  {
   "cell_type": "markdown",
   "metadata": {},
   "source": [
    "Une fonction peut être déclarée avec un nombre indéfini de paramètres en entrée. La syntaxe utilise trois points placés devant le dernier paramètre."
   ]
  },
  {
   "cell_type": "code",
   "execution_count": 77,
   "metadata": {},
   "outputs": [
    {
     "data": {
      "application/javascript": [
       "function direBonjour(...noms){\n",
       "    for(var nom of noms){\n",
       "        element.append(nom + \"<br>\");\n",
       "    }\n",
       "}\n",
       "direBonjour(\"Arthur\", \"Merlin\", \"Perceval\");\n"
      ],
      "text/plain": [
       "<IPython.core.display.Javascript object>"
      ]
     },
     "metadata": {},
     "output_type": "display_data"
    }
   ],
   "source": [
    "%%javascript\n",
    "function direBonjour(...noms){\n",
    "    for(var nom of noms){\n",
    "        element.append(nom + \"<br>\");\n",
    "    }\n",
    "}\n",
    "direBonjour(\"Arthur\", \"Merlin\", \"Perceval\");"
   ]
  },
  {
   "cell_type": "markdown",
   "metadata": {},
   "source": [
    "<hr>\n",
    "<div>\n",
    "    <img src=\"images/idea.png\" alt=\"idea\" width=\"30\" style=\"float:left; margin-right:15px;\"/> \n",
    "</div>\n",
    "Une variable <b>globale</b>, déclarée en dehors d'une fonction, est visible et manipulable dans l'ensemble du script d'une page. Une variable <b>locale</b>, déclarée à l'intérieur du corps d'une fonction, n'est visible que localement à l'intérieur de cette fonction.\n",
    "<hr>"
   ]
  },
  {
   "cell_type": "markdown",
   "metadata": {},
   "source": [
    "### Fonctions anonymes\n",
    "\n",
    "Il n'est pas utile de nommer une fonction qui ne sera pas appelée et réutilisée ailleurs dans le code. On peut donc déclarer des fonctions anonymes (qui n'ont pas de nom). L'exemple suivant exploite la fonction *every()* qui teste l'ensemble des éléments d'un tableau pour vérifier si la condition décrite par une fonction passée en argument est respectée."
   ]
  },
  {
   "cell_type": "code",
   "execution_count": 23,
   "metadata": {},
   "outputs": [
    {
     "data": {
      "application/javascript": [
       "var tableau1 = [0,2,4,6,8];\n",
       "var tableau2 = [0,2,5,6,8];\n",
       "element.text(tableau1.every(function(valeur){\n",
       "    return (valeur % 2 == 0);\n",
       "}));\n",
       "nombrePaires(tableau2); // La fonction anonyme est définie uniquement dans un contexte local.\n"
      ],
      "text/plain": [
       "<IPython.core.display.Javascript object>"
      ]
     },
     "metadata": {},
     "output_type": "display_data"
    }
   ],
   "source": [
    "%%javascript\n",
    "var tableau1 = [0,2,4,6,8];\n",
    "var tableau2 = [0,2,5,6,8];\n",
    "element.text(tableau1.every(function(valeur){\n",
    "    return (valeur % 2 == 0);\n",
    "}));\n",
    "nombrePaires(tableau2); // La fonction anonyme est définie uniquement dans un contexte local."
   ]
  },
  {
   "cell_type": "markdown",
   "metadata": {},
   "source": [
    "<hr>\n",
    "<div>\n",
    "    <img src=\"images/idea.png\" alt=\"idea\" width=\"30\" style=\"float:left; margin-right:15px;\"/> \n",
    "</div>\n",
    "Une fonction de rappel (<i>callback</i>) est une fonction passée dans une autre fonction en tant qu'argument, qui est ensuite invoquée à l'intérieur de la fonction externe pour accomplir une sorte de routine ou d'action. Dans l'exemple précédent une fonction de rappel est définie en argument à la méthode *every()*.\n",
    "<hr>"
   ]
  },
  {
   "cell_type": "markdown",
   "metadata": {},
   "source": [
    "En JavaScript on peut attribuer une fonction anonyme à une variable."
   ]
  },
  {
   "cell_type": "code",
   "execution_count": 78,
   "metadata": {},
   "outputs": [
    {
     "data": {
      "application/javascript": [
       "const nombrePaires = function(valeur){\n",
       "    return (valeur % 2 == 0);\n",
       "}\n",
       "var res1 = nombrePaires(2);\n",
       "var res2 = nombrePaires(3);\n",
       "element.append(res1 + \"<br>\" + res2);\n"
      ],
      "text/plain": [
       "<IPython.core.display.Javascript object>"
      ]
     },
     "metadata": {},
     "output_type": "display_data"
    }
   ],
   "source": [
    "%%javascript\n",
    "const nombrePaires = function(valeur){\n",
    "    return (valeur % 2 == 0);\n",
    "}\n",
    "var res1 = nombrePaires(2);\n",
    "var res2 = nombrePaires(3);\n",
    "element.append(res1 + \"<br>\" + res2);"
   ]
  },
  {
   "cell_type": "markdown",
   "metadata": {},
   "source": [
    "<hr>\n",
    "<div>\n",
    "    <img src=\"images/idea.png\" alt=\"idea\" width=\"30\" style=\"float:left; margin-right:15px;\"/> \n",
    "</div>\n",
    "La syntaxe des fonctions fléchées est souvent utilisée pour représenter une fonction anonyme <i>(valeurEntrée) => expressionRetour</i> au sein d'une méthode.\n",
    "<hr>"
   ]
  },
  {
   "cell_type": "code",
   "execution_count": 77,
   "metadata": {},
   "outputs": [
    {
     "data": {
      "application/javascript": [
       "var tableau1 = [0,2,4,6,8];\n",
       "element.text(tableau1.every((valeur) => (valeur % 2 == 0)));\n"
      ],
      "text/plain": [
       "<IPython.core.display.Javascript object>"
      ]
     },
     "metadata": {},
     "output_type": "display_data"
    }
   ],
   "source": [
    "%%javascript\n",
    "var tableau1 = [0,2,4,6,8];\n",
    "element.text(tableau1.every((valeur) => (valeur % 2 == 0)));"
   ]
  },
  {
   "cell_type": "markdown",
   "metadata": {},
   "source": [
    "### Fonctions auto-exécutées\n",
    "\n",
    "JavaScript introduit une syntaxe pour exécuter une fonction anonyme immédiatement après sa création."
   ]
  },
  {
   "cell_type": "code",
   "execution_count": 76,
   "metadata": {},
   "outputs": [
    {
     "data": {
      "application/javascript": [
       "(function(valeur){\n",
       "    element.append(valeur%2 + \"<br>\");\n",
       "})(3);\n",
       "// Ou.\n",
       "((valeur) => {\n",
       "    element.append(valeur%2 + \"<br>\");\n",
       "})(3);\n"
      ],
      "text/plain": [
       "<IPython.core.display.Javascript object>"
      ]
     },
     "metadata": {},
     "output_type": "display_data"
    }
   ],
   "source": [
    "%%javascript\n",
    "(function(valeur){\n",
    "    element.append(valeur%2 + \"<br>\");\n",
    "})(3);\n",
    "// Ou.\n",
    "((valeur) => {\n",
    "    element.append(valeur%2 + \"<br>\");\n",
    "})(3);"
   ]
  },
  {
   "cell_type": "markdown",
   "metadata": {},
   "source": [
    "### Principes de la programmation fonctionnelle\n",
    "\n",
    "En JavaScript, les fonctions sont des objets (de type *Function*) au même titre qu'un tableau est un objet de type *Array*.\n",
    "\n",
    "Cela veut dire qu’une fonction peut :\n",
    "* être affectée à des variables ou des structures de données,\n",
    "* être passée comme paramètre à une fonction,\n",
    "* être retournée par une fonction."
   ]
  },
  {
   "cell_type": "code",
   "execution_count": 32,
   "metadata": {},
   "outputs": [
    {
     "data": {
      "application/javascript": [
       "var fonction = () => 3;\n",
       "element.append((fonction instanceof Function) + \"<br>\");\n",
       "var tableau = [1,2];\n",
       "element.append(tableau instanceof Array);\n"
      ],
      "text/plain": [
       "<IPython.core.display.Javascript object>"
      ]
     },
     "metadata": {},
     "output_type": "display_data"
    }
   ],
   "source": [
    "%%javascript\n",
    "var fonction = () => 3;\n",
    "element.append((fonction instanceof Function) + \"<br>\");\n",
    "var tableau = [1,2];\n",
    "element.append(tableau instanceof Array);"
   ]
  },
  {
   "cell_type": "markdown",
   "metadata": {},
   "source": [
    "#### Fonctions d'ordre supérieur\n",
    "\n",
    "Cette propriété objet permet des constructions intéressantes appelée **les fonctions d’ordre supérieur** (*high order functions*).\n",
    "Une fonction d’ordre supérieur est une fonction qui accepte au moins une autre fonction en paramètre, et/ou qui retourne une fonction en résultat ([Source](https://www.24joursdeweb.fr/2014/un-peu-de-programmation-fonctionnelle-en-javascript/)). Un exemple a été présenté précédemment avec la fonction *every()* dans la sous-section discutant des fonctions anonymes."
   ]
  },
  {
   "cell_type": "code",
   "execution_count": 33,
   "metadata": {},
   "outputs": [
    {
     "data": {
      "application/javascript": [
       "function multiplierParDeux(nombre){\n",
       "    return nombre * 2;\n",
       "}\n",
       "function afficher(nombre){\n",
       "    element.append(`-- La fonction afficher() affiche la valeur ${nombre} <br>`);\n",
       "    return nombre;\n",
       "}\n",
       "element.append(`Les fonctions imbriquées affichent ${afficher(multiplierParDeux(4))} <br>`);\n",
       "\n",
       "// Fonction d'ordre supérieur.\n",
       "\n",
       "function afficherDouble(nombre){\n",
       "    return afficher(multiplierParDeux(nombre));\n",
       "}\n",
       "element.append(`La fonction afficherDouble() affiche ${afficherDouble(5)} <br>`);\n",
       "\n",
       "function compose(f, g){\n",
       "    return function(nombre){\n",
       "        return f(g(nombre));\n",
       "    };\n",
       "}\n",
       "var fonctionImbriquee = compose(afficher, multiplierParDeux);\n",
       "element.append(`La fonction imbriquée fonctionImbriquee() affiche ${fonctionImbriquee(6)} <br>`);\n"
      ],
      "text/plain": [
       "<IPython.core.display.Javascript object>"
      ]
     },
     "metadata": {},
     "output_type": "display_data"
    }
   ],
   "source": [
    "%%javascript\n",
    "function multiplierParDeux(nombre){\n",
    "    return nombre * 2;\n",
    "}\n",
    "function afficher(nombre){\n",
    "    element.append(`-- La fonction afficher() affiche la valeur ${nombre} <br>`);\n",
    "    return nombre;\n",
    "}\n",
    "element.append(`Les fonctions imbriquées affichent ${afficher(multiplierParDeux(4))} <br>`);\n",
    "\n",
    "function afficherDouble(nombre){ // Ne prend pas de fonction en entrée.\n",
    "    return afficher(multiplierParDeux(nombre)); // Ne renvoie pas de fonction en sortie.\n",
    "}\n",
    "element.append(`La fonction afficherDouble() affiche ${afficherDouble(5)} <br>`);\n",
    "\n",
    "// Fonction d'ordre supérieur.\n",
    "\n",
    "function compose(f, g){ // Prend deux fonctions en entrée.\n",
    "    return function(nombre){ // Renvoie une fonction en sortie.\n",
    "        return f(g(nombre));\n",
    "    };\n",
    "}\n",
    "var fonctionImbriquee = compose(afficher, multiplierParDeux);\n",
    "element.append(`La fonction imbriquée fonctionImbriquee() affiche ${fonctionImbriquee(6)} <br>`);"
   ]
  },
  {
   "cell_type": "markdown",
   "metadata": {},
   "source": [
    "#### Les fermetures (*closures*)\n",
    "\n",
    "Les fermetures, ou closures en anglais, sont des fonctions qui se \"souviennent\" de l'environnement dans lequel elles ont été créées (on dit aussi que la fonction capture son \"environnement\")."
   ]
  },
  {
   "cell_type": "code",
   "execution_count": 41,
   "metadata": {},
   "outputs": [
    {
     "data": {
      "application/javascript": [
       "function init(){\n",
       "    var nom = \"Mozilla\";\n",
       "    function afficheNom(){\n",
       "        element.append(`Je suis ${nom} <br>`);\n",
       "    }\n",
       "    return afficheNom; // La fonction init() est une high order function.\n",
       "    // Ne pas écrire return afficheNom(); car on renvoie un objet de type Function et non le résultat d'une fonction.\n",
       "}\n",
       "var bonjour = init();\n",
       "bonjour();\n"
      ],
      "text/plain": [
       "<IPython.core.display.Javascript object>"
      ]
     },
     "metadata": {},
     "output_type": "display_data"
    }
   ],
   "source": [
    "%%javascript\n",
    "function init(){\n",
    "    var nom = \"Mozilla\";\n",
    "    function afficheNom(){\n",
    "        element.append(`Je suis ${nom} <br>`);\n",
    "    }\n",
    "    return afficheNom; // La fonction init() est une high order function.\n",
    "    // Ne pas écrire return afficheNom(); car on renvoie un objet de type Function et non le résultat d'une fonction.\n",
    "    // On pourrait aussi ne pas mettre de retour et exécuter afficheNom(); dans le corps de la fonction init().\n",
    "}\n",
    "var bonjour = init();\n",
    "bonjour();"
   ]
  },
  {
   "cell_type": "code",
   "execution_count": 42,
   "metadata": {},
   "outputs": [
    {
     "data": {
      "application/javascript": [
       "function addition(nombre1){\n",
       "    return function(nombre2){\n",
       "        return nombre1 + nombre2; // nombre1 est capturé dans l'environnement de la fonction retournée.\n",
       "    }\n",
       "}\n",
       "var additionBase10 = addition(10);\n",
       "element.append(additionBase10(5));\n"
      ],
      "text/plain": [
       "<IPython.core.display.Javascript object>"
      ]
     },
     "metadata": {},
     "output_type": "display_data"
    }
   ],
   "source": [
    "%%javascript\n",
    "function addition(nombre1){\n",
    "    return function(nombre2){\n",
    "        return nombre1 + nombre2; // nombre1 est capturé dans l'environnement de la fonction retournée.\n",
    "    }\n",
    "}\n",
    "var additionBase10 = addition(10);\n",
    "element.append(additionBase10(5));"
   ]
  },
  {
   "cell_type": "markdown",
   "metadata": {},
   "source": [
    "## La manipulation de tableaux <a name=\"manipulation-tableaux\"></a>\n",
    "\n",
    "Un tableau est une structure ordonnée de données qui permet l'accès aux informations qu'il contient par un indice. Un tableau peut contenir plusieurs types de données à la fois."
   ]
  },
  {
   "cell_type": "code",
   "execution_count": 108,
   "metadata": {},
   "outputs": [
    {
     "data": {
      "application/javascript": [
       "var tableau = [\"Merlin\", 884, null, undefined];\n",
       "element.text(`${tableau[0]} | ${tableau[1]} | ${tableau[2]} | ${tableau[3]} <br>`);\n"
      ],
      "text/plain": [
       "<IPython.core.display.Javascript object>"
      ]
     },
     "metadata": {},
     "output_type": "display_data"
    }
   ],
   "source": [
    "%%javascript\n",
    "var tableau = [\"Merlin\", 884, null, undefined];\n",
    "element.text(`${tableau[0]} | ${tableau[1]} | ${tableau[2]} | ${tableau[3]} <br>`);"
   ]
  },
  {
   "cell_type": "markdown",
   "metadata": {},
   "source": [
    "### Tableaux imbriqués"
   ]
  },
  {
   "cell_type": "code",
   "execution_count": 105,
   "metadata": {},
   "outputs": [
    {
     "data": {
      "application/javascript": [
       "var tableau = [[\"Merlin\", 884], [\"Lapin adulte\", 9]];\n",
       "element.text(tableau[1][0]);\n"
      ],
      "text/plain": [
       "<IPython.core.display.Javascript object>"
      ]
     },
     "metadata": {},
     "output_type": "display_data"
    }
   ],
   "source": [
    "%%javascript\n",
    "var tableau = [[\"Merlin\", 884], [\"Lapin adulte\", 9]];\n",
    "element.text(tableau[1][0]);"
   ]
  },
  {
   "cell_type": "markdown",
   "metadata": {},
   "source": [
    "### Modifier une valeur à partir d'un index"
   ]
  },
  {
   "cell_type": "code",
   "execution_count": 114,
   "metadata": {},
   "outputs": [
    {
     "data": {
      "application/javascript": [
       "var tableau1 = [\"Merlin\", 884];\n",
       "element.append(tableau1.toString() + \"<br>\");\n",
       "tableau1[0] = \"Perceval\";\n",
       "element.append(tableau1.toString() + \"<br>\");\n",
       "var tableau2 = new Array(6);\n",
       "element.append(tableau2.toString() + \"<br>\");\n",
       "tableau2[2] = \"t\";\n",
       "element.append(tableau2.toString() + \"<br>\");\n"
      ],
      "text/plain": [
       "<IPython.core.display.Javascript object>"
      ]
     },
     "metadata": {},
     "output_type": "display_data"
    }
   ],
   "source": [
    "%%javascript\n",
    "var tableau1 = [\"Merlin\", 884];\n",
    "element.append(tableau1.toString() + \"<br>\");\n",
    "tableau1[0] = \"Perceval\";\n",
    "element.append(tableau1.toString() + \"<br>\");\n",
    "var tableau2 = new Array(6);\n",
    "element.append(tableau2.toString() + \"<br>\");\n",
    "tableau2[2] = \"t\";\n",
    "element.append(tableau2.toString() + \"<br>\");"
   ]
  },
  {
   "cell_type": "markdown",
   "metadata": {},
   "source": [
    "### Méthodes associées à l'objet *Array*\n",
    "\n",
    "Vous pouvez retrouver l'ensemble des fonctions sur le site de [developer.mozilla.org](https://developer.mozilla.org/fr/docs/Web/JavaScript/Reference/Objets_globaux/Array)."
   ]
  },
  {
   "cell_type": "markdown",
   "metadata": {},
   "source": [
    "#### Taille d'un tableau"
   ]
  },
  {
   "cell_type": "code",
   "execution_count": 109,
   "metadata": {},
   "outputs": [
    {
     "data": {
      "application/javascript": [
       "var tableau = [1,2,3];\n",
       "element.append(`La longueur du tableau est de: ${tableau.length}`);\n"
      ],
      "text/plain": [
       "<IPython.core.display.Javascript object>"
      ]
     },
     "metadata": {},
     "output_type": "display_data"
    }
   ],
   "source": [
    "%%javascript\n",
    "var tableau = [1,2,3];\n",
    "element.append(`La longueur du tableau est de: ${tableau.length}`);"
   ]
  },
  {
   "cell_type": "markdown",
   "metadata": {},
   "source": [
    "#### Ajouter un élément"
   ]
  },
  {
   "cell_type": "code",
   "execution_count": 116,
   "metadata": {},
   "outputs": [
    {
     "data": {
      "application/javascript": [
       "var tableau = [1,2];\n",
       "tableau.push(3); // Ajout à la fin.\n",
       "tableau.unshift(0); // Ajout au début.\n",
       "element.text(tableau.toString());\n"
      ],
      "text/plain": [
       "<IPython.core.display.Javascript object>"
      ]
     },
     "metadata": {},
     "output_type": "display_data"
    }
   ],
   "source": [
    "%%javascript\n",
    "var tableau = [1,2];\n",
    "tableau.push(3); // Ajout à la fin.\n",
    "tableau.unshift(0); // Ajout au début.\n",
    "element.text(tableau.toString());"
   ]
  },
  {
   "cell_type": "markdown",
   "metadata": {},
   "source": [
    "#### Supprimer un élément"
   ]
  },
  {
   "cell_type": "code",
   "execution_count": 128,
   "metadata": {},
   "outputs": [
    {
     "data": {
      "application/javascript": [
       "var tableau = [0,1,2,3,4,5,6,7,8];\n",
       "var element_pop = tableau.pop(); // Suppression du dernier élément.\n",
       "element.append(element_pop + \" | \" + typeof element_pop + \" | \" + tableau.toString() + \"<br>\");\n",
       "element_pop = tableau.shift(); // Suppression du premier élément.\n",
       "element.append(element_pop + \" | \" + typeof element_pop + \" | \" + tableau.toString() + \"<br>\");\n",
       "element_pop = tableau.splice(0,1); // Suppression d'un élément de taille 1 à partir de l'index 0.\n",
       "element.append(element_pop.toString() + \" | \" + typeof element_pop + \" | \" + tableau.toString() + \"<br>\");\n",
       "element_pop = tableau.splice(1,3); // Suppression d'un élément de taille 3 à partir de l'index 1.\n",
       "element.append(element_pop.toString() + \" | \" + typeof element_pop + \" | \" + tableau.toString() + \"<br>\");\n"
      ],
      "text/plain": [
       "<IPython.core.display.Javascript object>"
      ]
     },
     "metadata": {},
     "output_type": "display_data"
    }
   ],
   "source": [
    "%%javascript\n",
    "var tableau = [0,1,2,3,4,5,6,7,8];\n",
    "var element_pop = tableau.pop(); // Suppression du dernier élément.\n",
    "element.append(element_pop + \" | \" + typeof element_pop + \" | \" + tableau.toString() + \"<br>\");\n",
    "element_pop = tableau.shift(); // Suppression du premier élément.\n",
    "element.append(element_pop + \" | \" + typeof element_pop + \" | \" + tableau.toString() + \"<br>\");\n",
    "element_pop = tableau.splice(0,1); // Suppression d'un élément de taille 1 à partir de l'index 0.\n",
    "element.append(element_pop.toString() + \" | \" + typeof element_pop + \" | \" + tableau.toString() + \"<br>\");\n",
    "element_pop = tableau.splice(1,3); // Suppression d'un élément de taille 3 à partir de l'index 1.\n",
    "element.append(element_pop.toString() + \" | \" + typeof element_pop + \" | \" + tableau.toString() + \"<br>\");"
   ]
  },
  {
   "cell_type": "markdown",
   "metadata": {},
   "source": [
    "#### Rechercher l'index d'un élément"
   ]
  },
  {
   "cell_type": "code",
   "execution_count": 131,
   "metadata": {},
   "outputs": [
    {
     "data": {
      "application/javascript": [
       "var tableau = [1,2,\"Arthur\",3,4, \"Arthur\"];\n",
       "element.append(tableau.indexOf(2) + \"<br>\");\n",
       "element.append(tableau.indexOf(\"Arthur\") + \"<br>\");\n",
       "element.append(tableau.lastIndexOf(\"Arthur\") + \"<br>\");\n",
       "element.append(tableau.indexOf(\"Perceval\") + \"<br>\");\n"
      ],
      "text/plain": [
       "<IPython.core.display.Javascript object>"
      ]
     },
     "metadata": {},
     "output_type": "display_data"
    }
   ],
   "source": [
    "%%javascript\n",
    "var tableau = [1,2,\"Arthur\",3,4, \"Arthur\"];\n",
    "element.append(tableau.indexOf(2) + \"<br>\");\n",
    "element.append(tableau.indexOf(\"Arthur\") + \"<br>\");\n",
    "element.append(tableau.lastIndexOf(\"Arthur\") + \"<br>\");\n",
    "element.append(tableau.indexOf(\"Perceval\") + \"<br>\");"
   ]
  },
  {
   "cell_type": "markdown",
   "metadata": {},
   "source": [
    "#### Concaténation de tableaux"
   ]
  },
  {
   "cell_type": "code",
   "execution_count": 135,
   "metadata": {},
   "outputs": [
    {
     "data": {
      "application/javascript": [
       "var tableau1 = [0,1];\n",
       "var tableau2 = [2,3];\n",
       "var tableau3 = [4,5];\n",
       "var tableau4 = tableau1.concat(tableau2, tableau3);\n",
       "element.text(tableau4.toString());\n"
      ],
      "text/plain": [
       "<IPython.core.display.Javascript object>"
      ]
     },
     "metadata": {},
     "output_type": "display_data"
    }
   ],
   "source": [
    "%%javascript\n",
    "var tableau1 = [0,1];\n",
    "var tableau2 = [2,3];\n",
    "var tableau3 = [4,5];\n",
    "var tableau4 = tableau1.concat(tableau2, tableau3);\n",
    "element.text(tableau4.toString());"
   ]
  },
  {
   "cell_type": "markdown",
   "metadata": {},
   "source": [
    "#### Tester une condition sur l'ensemble d'un tableau\n",
    "\n",
    "La méthode *every()* permet de tester si le tableau respecte une condition, décrite au sein d'une fonction anonyme, sur l'ensemble de ses éléments. Un exemple de la fonction est décrite dans la section \"Fonctions anonymes\".\n",
    "\n",
    "#### Filtrer les éléments d'un tableau\n",
    "\n",
    "La méthode *filter()* retourne un nouveau tableau contenant tous les éléments du tableau initial qui remplissent la condition définie dans la fonction passée en paramètre."
   ]
  },
  {
   "cell_type": "code",
   "execution_count": 6,
   "metadata": {},
   "outputs": [
    {
     "data": {
      "application/javascript": [
       "var tableau = [0,2,4,5,6,7,8];\n",
       "var tableau_paire = tableau.filter(function(valeur){\n",
       "    return (valeur % 2 == 0);\n",
       "});\n",
       "element.append(tableau.toString() + \"<br>\");\n",
       "element.append(tableau_paire.toString());\n"
      ],
      "text/plain": [
       "<IPython.core.display.Javascript object>"
      ]
     },
     "metadata": {},
     "output_type": "display_data"
    }
   ],
   "source": [
    "%%javascript\n",
    "var tableau = [0,2,4,5,6,7,8];\n",
    "var tableau_paire = tableau.filter(function(valeur){\n",
    "    return (valeur % 2 == 0);\n",
    "});\n",
    "element.append(tableau.toString() + \"<br>\");\n",
    "element.append(tableau_paire.toString());"
   ]
  },
  {
   "cell_type": "markdown",
   "metadata": {},
   "source": [
    "#### Joindre les éléments d'un tableau\n",
    "\n",
    "La méthode *join()* retourne une chaîne de caractères composées des éléments du tableau séparés par un séparateur passé en paramètre."
   ]
  },
  {
   "cell_type": "code",
   "execution_count": 50,
   "metadata": {},
   "outputs": [
    {
     "data": {
      "application/javascript": [
       "var tableau = [0, 1, 2, 3];\n",
       "element.text(tableau.join(\" | \"));\n"
      ],
      "text/plain": [
       "<IPython.core.display.Javascript object>"
      ]
     },
     "metadata": {},
     "output_type": "display_data"
    }
   ],
   "source": [
    "%%javascript\n",
    "var tableau = [0, 1, 2, 3];\n",
    "element.text(tableau.join(\" | \"));"
   ]
  },
  {
   "cell_type": "markdown",
   "metadata": {},
   "source": [
    "#### Modifier les éléments d'un tableau\n",
    "\n",
    "La méthode *map()* retourne un nouveau tableau composé des éléments du tableau initial auxquels une fonction est appliquée."
   ]
  },
  {
   "cell_type": "code",
   "execution_count": 51,
   "metadata": {},
   "outputs": [
    {
     "data": {
      "application/javascript": [
       "var tableau1 = [\"lundi\", \"mardi\", \"mercredi\", \"jeudi\", \"vendredi\", \"samedi\", \"dimanche\"];\n",
       "var tableau2 = tableau1.map(function(valeur){\n",
       "   return valeur.toUpperCase();\n",
       "});\n",
       "element.append(tableau1.toString() + \"<br>\");\n",
       "element.append(tableau2.toString() + \"<br>\");\n"
      ],
      "text/plain": [
       "<IPython.core.display.Javascript object>"
      ]
     },
     "metadata": {},
     "output_type": "display_data"
    }
   ],
   "source": [
    "%%javascript\n",
    "var tableau1 = [\"lundi\", \"mardi\", \"mercredi\", \"jeudi\", \"vendredi\", \"samedi\", \"dimanche\"];\n",
    "var tableau2 = tableau1.map(function(valeur){\n",
    "   return valeur.toUpperCase();\n",
    "});\n",
    "element.append(tableau1.toString() + \"<br>\");\n",
    "element.append(tableau2.toString() + \"<br>\");"
   ]
  },
  {
   "cell_type": "markdown",
   "metadata": {},
   "source": [
    "<hr>\n",
    "<div>\n",
    "    <img src=\"images/writing.png\" alt=\"writing\" width=\"30\" style=\"float:left; margin-right:15px;\"/> \n",
    "</div>\n",
    "Afficher la longueur en caractère de chaque jour de la semaine (tableau1 de l'exemple précédent) à partir de la méthode *map()*.\n",
    "\n",
    "<hr>"
   ]
  },
  {
   "cell_type": "markdown",
   "metadata": {},
   "source": [
    "#### Réduction d'un tableau\n",
    "\n",
    "La méthode *reduce()* réduit le tableau en appliquant une fonction qui accumule deux éléments pour n'en retourner qu'un seul. La fonction accumulatrice est appelée jusqu'à retourner qu'un seul élément. Pour cela, elle nécessite 4 paramètres:\n",
    "* *accumulateur*: valeur retournée par le précédent appel à la fonction.\n",
    "* *element*: l'élément en cours de traitement.\n",
    "* *index*: l'indice de l'élément (optionnel).\n",
    "* *origine*: le tableau d'origine (optionnel)."
   ]
  },
  {
   "cell_type": "code",
   "execution_count": 55,
   "metadata": {},
   "outputs": [
    {
     "data": {
      "application/javascript": [
       "var tableau = [1,2,3,4,5];\n",
       "var somme = tableau.reduce(function(accumulateur, element){\n",
       "    return accumulateur + element;\n",
       "})\n",
       "element.append(tableau.toString() + \"<br>\");\n",
       "element.append(somme + \"<br>\");\n"
      ],
      "text/plain": [
       "<IPython.core.display.Javascript object>"
      ]
     },
     "metadata": {},
     "output_type": "display_data"
    }
   ],
   "source": [
    "%%javascript\n",
    "var tableau = [1,2,3,4,5]; // 1+2 | 3+3 | 6+4 | 10+5.\n",
    "var somme = tableau.reduce(function(accumulateur, element){\n",
    "    return accumulateur + element;\n",
    "})\n",
    "element.append(tableau.toString() + \"<br>\");\n",
    "element.append(somme + \"<br>\");"
   ]
  },
  {
   "cell_type": "markdown",
   "metadata": {},
   "source": [
    "<hr>\n",
    "<div>\n",
    "    <img src=\"images/writing.png\" alt=\"writing\" width=\"30\" style=\"float:left; margin-right:15px;\"/> \n",
    "</div>\n",
    "Calculer la moyenne du tableau suivant [8, 15, 12, 5, 2, 18] en utilisant les méthodes *reduce()* et *length*.\n",
    "\n",
    "<hr>"
   ]
  },
  {
   "cell_type": "markdown",
   "metadata": {},
   "source": [
    "#### Inverser l'ordre d'un tableau.\n",
    "\n",
    "La méthode *reverse()* permet d'inverser l'ordre des éléments d'un tableau. Elle modifie directement le tableau."
   ]
  },
  {
   "cell_type": "code",
   "execution_count": 56,
   "metadata": {},
   "outputs": [
    {
     "data": {
      "application/javascript": [
       "var tableau = [1,2,3,4,5];\n",
       "element.text(tableau.reverse());\n"
      ],
      "text/plain": [
       "<IPython.core.display.Javascript object>"
      ]
     },
     "metadata": {},
     "output_type": "display_data"
    }
   ],
   "source": [
    "%%javascript\n",
    "var tableau = [1,2,3,4,5];\n",
    "element.text(tableau.reverse());"
   ]
  },
  {
   "cell_type": "markdown",
   "metadata": {},
   "source": [
    "#### Trier les éléments d'un tableau\n",
    "\n",
    "La méthode *sort()* trie un tableau par ordre croissant ou par ordre alphabétique. Elle modifie directement le tableau."
   ]
  },
  {
   "cell_type": "code",
   "execution_count": 59,
   "metadata": {},
   "outputs": [
    {
     "data": {
      "application/javascript": [
       "var tableau = [4,5,3,1,2];\n",
       "element.text(tableau.sort());\n"
      ],
      "text/plain": [
       "<IPython.core.display.Javascript object>"
      ]
     },
     "metadata": {},
     "output_type": "display_data"
    }
   ],
   "source": [
    "%%javascript\n",
    "var tableau = [4,5,3,1,2];\n",
    "element.text(tableau.sort());"
   ]
  },
  {
   "cell_type": "markdown",
   "metadata": {},
   "source": [
    "<hr>\n",
    "\n",
    "<div>\n",
    "    <img src=\"images/writing.png\" alt=\"writing\" width=\"30\" style=\"float:left; margin-right:15px;\"/> \n",
    "</div>\n",
    "<div>\n",
    "    Trier par ordre décroissant le tableau suivant [8, 15, 12, 5, 2, 18].\n",
    "</div>\n",
    "<br>\n",
    "<div>\n",
    "    <img src=\"images/writing.png\" alt=\"writing\" width=\"30\" style=\"float:left; margin-right:15px;\"/> \n",
    "</div>\n",
    "Construisez une liste de courses (avec l'objet <i>Array</i>) dans laquelle chaque élement de ma liste est un tableau de taille 2 dans lequel l'index 0 correspond au nom de l'élément et l'index 1 à la quantité achetée.\n",
    "<ul>\n",
    "  <li> Créer une fonction pour ajouter un élément à la liste. Cette fonction prend en paramètre le nom de l'élément et la quantité.\n",
    "  <li> Ajouter à la liste: 1 Balai, 2 Dentifrices et 3 Camemberts à partir d'une fonction auto-éxécutées (et de la fonction précédente). </li>\n",
    "  <li> Créer une fonction pour modifier la quantité d'un élément de la liste en fonction de son index. </li>\n",
    "  <li> Incrémenter la quantité de Camembert acheté de 1. </li>\n",
    "  <li> Créer une fonction pour supprimer un élément de la liste en fonction de son index </li>\n",
    "  <li> Supprimer de la liste le Balai. </li>\n",
    "  <li> Créer une fonction qui exploite les méthodes *map()* et *reduce()* pour comptabiliser le nombre d'articles au total. </li>\n",
    "</ul>\n",
    "\n",
    "<hr>\n"
   ]
  },
  {
   "cell_type": "markdown",
   "metadata": {},
   "source": [
    "## Les *Map* <a name=\"map\"></a>\n",
    "\n",
    "L'objet Map représente un dictionnaire, autrement dit une carte de clés/valeurs. N'importe quelle valeur valable en JavaScript (que ce soit les objets ou les valeurs de types primitifs) peut être utilisée comme clé ou comme valeur.\n",
    "\n",
    "<hr>\n",
    "<div>\n",
    "    <img src=\"images/idea.png\" alt=\"idea\" width=\"30\" style=\"float:left; margin-right:15px;\"/> \n",
    "</div>\n",
    "L'ordre d'insertion des clés est mémorisé dans l'objet et les boucles sur les Map parcourent les clés dans cet ordre.\n",
    "<hr>"
   ]
  },
  {
   "cell_type": "markdown",
   "metadata": {},
   "source": [
    "### Accéder à une valeur\n",
    "\n",
    "La méthode *get()* renvoie un élément d'un objet *Map*."
   ]
  },
  {
   "cell_type": "code",
   "execution_count": 47,
   "metadata": {},
   "outputs": [
    {
     "data": {
      "application/javascript": [
       "var dict = new Map([[\"saison_1\", [\"Heat\", \"La tarte aux myrtilles\"]], [\"saison_2\", [\"La Vraie Nature du Graal\", \"Spangenhelm\", \"Les Alchimistes\"]]]);\n",
       "element.append(dict.get(\"saison_1\")[0] + \"<br>\");\n",
       "element.append(dict.get(\"saison_2\")[2] + \"<br>\");\n"
      ],
      "text/plain": [
       "<IPython.core.display.Javascript object>"
      ]
     },
     "metadata": {},
     "output_type": "display_data"
    }
   ],
   "source": [
    "%%javascript\n",
    "var dict = new Map([[\"saison_1\", [\"Heat\", \"La tarte aux myrtilles\"]], [\"saison_2\", [\"La Vraie Nature du Graal\", \"Spangenhelm\", \"Les Alchimistes\"]]]);\n",
    "element.append(dict.get(\"saison_1\")[0] + \"<br>\");\n",
    "element.append(dict.get(\"saison_2\")[2] + \"<br>\");"
   ]
  },
  {
   "cell_type": "markdown",
   "metadata": {},
   "source": [
    "### Taille d'une *Map*\n",
    "\n",
    "L'accesseur *size* est une propriété renvoyant le nombre d'éléments d'un objet *Map*."
   ]
  },
  {
   "cell_type": "code",
   "execution_count": 51,
   "metadata": {},
   "outputs": [
    {
     "data": {
      "application/javascript": [
       "var dict = new Map([[\"saison_1\", [\"Heat\"]], [\"saison_2\", [\"La Vraie Nature du Graal\", \"Spangenhelm\"]]]);\n",
       "element.append(\"La Map a une taille de \" + dict.size + \"<br>\");\n"
      ],
      "text/plain": [
       "<IPython.core.display.Javascript object>"
      ]
     },
     "metadata": {},
     "output_type": "display_data"
    }
   ],
   "source": [
    "%%javascript\n",
    "var dict = new Map([[\"saison_1\", [\"Heat\"]], [\"saison_2\", [\"La Vraie Nature du Graal\", \"Spangenhelm\"]]]);\n",
    "element.append(\"La Map a une taille de \" + dict.size + \"<br>\");"
   ]
  },
  {
   "cell_type": "markdown",
   "metadata": {},
   "source": [
    "### Ajouter un nouvel elément\n",
    "\n",
    "La méthode *set()* ajoute un nouvel élément avec une clé et une valeur données à un objet *Map*."
   ]
  },
  {
   "cell_type": "code",
   "execution_count": 48,
   "metadata": {},
   "outputs": [
    {
     "data": {
      "application/javascript": [
       "var dict = new Map([[\"saison_1\", [\"Heat\", \"La tarte aux myrtilles\"]]]);\n",
       "element.append(dict.get(\"saison_1\")[0] + \"<br>\");\n",
       "dict.set(\"saison_2\", [\"La Vraie Nature du Graal\", \"Spangenhelm\", \"Les Alchimistes\"]);\n",
       "element.append(dict.get(\"saison_2\")[2] + \"<br>\");\n"
      ],
      "text/plain": [
       "<IPython.core.display.Javascript object>"
      ]
     },
     "metadata": {},
     "output_type": "display_data"
    }
   ],
   "source": [
    "%%javascript\n",
    "var dict = new Map([[\"saison_1\", [\"Heat\", \"La tarte aux myrtilles\"]]]);\n",
    "element.append(dict.get(\"saison_1\")[0] + \"<br>\");\n",
    "dict.set(\"saison_2\", [\"La Vraie Nature du Graal\", \"Spangenhelm\", \"Les Alchimistes\"]);\n",
    "element.append(dict.get(\"saison_2\")[2] + \"<br>\");"
   ]
  },
  {
   "cell_type": "markdown",
   "metadata": {},
   "source": [
    "### Tester la présence d'une clé\n",
    "\n",
    "La méthode *has()* renvoie un booléen permettant de déterminer si l'objet Map en question contient la clé donnée."
   ]
  },
  {
   "cell_type": "code",
   "execution_count": 50,
   "metadata": {},
   "outputs": [
    {
     "data": {
      "application/javascript": [
       "var dict = new Map([[\"saison_1\", [\"Heat\"]], [\"saison_2\", [\"La Vraie Nature du Graal\", \"Spangenhelm\"]]]);\n",
       "element.append(dict.has(\"saison_1\") + \"<br>\");\n",
       "element.append(dict.has(\"saison_3\") + \"<br>\");\n"
      ],
      "text/plain": [
       "<IPython.core.display.Javascript object>"
      ]
     },
     "metadata": {},
     "output_type": "display_data"
    }
   ],
   "source": [
    "%%javascript\n",
    "var dict = new Map([[\"saison_1\", [\"Heat\"]], [\"saison_2\", [\"La Vraie Nature du Graal\", \"Spangenhelm\"]]]);\n",
    "element.append(dict.has(\"saison_1\") + \"<br>\");\n",
    "element.append(dict.has(\"saison_3\") + \"<br>\");"
   ]
  },
  {
   "cell_type": "markdown",
   "metadata": {},
   "source": [
    "### Supprimer une clé et sa valeur\n",
    "\n",
    "La méthode *delete()* permet de retirer un élément donné d'un objet *Map* grâce à sa clé."
   ]
  },
  {
   "cell_type": "code",
   "execution_count": 52,
   "metadata": {},
   "outputs": [
    {
     "data": {
      "application/javascript": [
       "var dict = new Map([[\"saison_1\", [\"Heat\"]], [\"saison_2\", [\"La Vraie Nature du Graal\", \"Spangenhelm\"]]]);\n",
       "element.append(\"La Map a une taille de \" + dict.size + \"<br>\");\n",
       "dict.delete(\"saison_2\");\n",
       "element.append(\"La Map a une taille de \" + dict.size + \"<br>\");\n"
      ],
      "text/plain": [
       "<IPython.core.display.Javascript object>"
      ]
     },
     "metadata": {},
     "output_type": "display_data"
    }
   ],
   "source": [
    "%%javascript\n",
    "var dict = new Map([[\"saison_1\", [\"Heat\"]], [\"saison_2\", [\"La Vraie Nature du Graal\", \"Spangenhelm\"]]]);\n",
    "element.append(\"La Map a une taille de \" + dict.size + \"<br>\");\n",
    "dict.delete(\"saison_2\");\n",
    "element.append(\"La Map a une taille de \" + dict.size + \"<br>\");"
   ]
  },
  {
   "cell_type": "markdown",
   "metadata": {},
   "source": [
    "### Obtenir les clés de la *Map*\n",
    "\n",
    "La méthode *keys()* renvoie un objet *Iterator* qui contient les clés de chaque élément de l'objet *Map*, dans leur ordre d'insertion."
   ]
  },
  {
   "cell_type": "code",
   "execution_count": 73,
   "metadata": {},
   "outputs": [
    {
     "data": {
      "application/javascript": [
       "var dict = new Map([[\"saison_1\", [\"Heat\"]], [\"saison_2\", [\"La Vraie Nature du Graal\", \"Spangenhelm\"]]]);\n",
       "for(var cle of dict.keys()){\n",
       "    element.append(cle + \"<br>\");\n",
       "}\n",
       "var cles = Array.from(dict.keys());\n",
       "element.append(cles[0] + \" | \" + cles[1] + \"<br>\");\n",
       "element.append(Array.isArray(cles) + \"<br>\");\n",
       "\n",
       "element.append(JSON.stringify(dict));\n"
      ],
      "text/plain": [
       "<IPython.core.display.Javascript object>"
      ]
     },
     "metadata": {},
     "output_type": "display_data"
    }
   ],
   "source": [
    "%%javascript\n",
    "var dict = new Map([[\"saison_1\", [\"Heat\"]], [\"saison_2\", [\"La Vraie Nature du Graal\", \"Spangenhelm\"]]]);\n",
    "for(var cle of dict.keys()){\n",
    "    element.append(cle + \"<br>\");\n",
    "}\n",
    "var cles = Array.from(dict.keys());\n",
    "element.append(cles[0] + \" | \" + cles[1] + \"<br>\");\n",
    "element.append(Array.isArray(cles) + \"<br>\");\n",
    "\n",
    "element.append(JSON.stringify(dict));"
   ]
  },
  {
   "cell_type": "markdown",
   "metadata": {},
   "source": [
    "<hr>\n",
    "<div>\n",
    "    <img src=\"images/idea.png\" alt=\"idea\" width=\"30\" style=\"float:left; margin-right:15px;\"/> \n",
    "</div>\n",
    "La méthode *from()* de l'objet *Array* permet de créer une nouvelle instance d'Array à partir d'un objet semblable à un tableau ou d'un itérable.\n",
    "<hr>"
   ]
  },
  {
   "cell_type": "markdown",
   "metadata": {},
   "source": [
    "## Les conditions <a name=\"conditions\"></a>\n",
    "\n",
    "Les tests conditionnels permettent d'orienter l'éxécution vers des embranchements d'instructions selon le résultat de conditions définies par le développeur.\n",
    "\n",
    "### Test simple"
   ]
  },
  {
   "cell_type": "code",
   "execution_count": 109,
   "metadata": {},
   "outputs": [
    {
     "data": {
      "application/javascript": [
       "var i = 50, limit = 50;\n",
       "if(i <= limit){\n",
       "    element.append(i + \" inférieur ou égal à \" + limit);\n",
       "}\n"
      ],
      "text/plain": [
       "<IPython.core.display.Javascript object>"
      ]
     },
     "metadata": {},
     "output_type": "display_data"
    }
   ],
   "source": [
    "%%javascript\n",
    "var i = 50, limit = 50;\n",
    "if(i <= limit){\n",
    "    element.append(i + \" inférieur ou égal à \" + limit);\n",
    "}"
   ]
  },
  {
   "cell_type": "code",
   "execution_count": 120,
   "metadata": {},
   "outputs": [
    {
     "data": {
      "application/javascript": [
       "var i = \"50\", limit = 50;\n",
       "if(i == limit){\n",
       "    element.append(\"i et limit ont une valeur égale. <br>\");\n",
       "}\n",
       "\n",
       "if(i !== limit){\n",
       "    element.append(\"i et limit ont une valeur ou un type différent. <br>\");\n",
       "}\n",
       "\n",
       "i = \"000000050.0\"\n",
       "if(i == limit){\n",
       "    element.append(\"i et limit ont une valeur égale. <br>\");\n",
       "}\n"
      ],
      "text/plain": [
       "<IPython.core.display.Javascript object>"
      ]
     },
     "metadata": {},
     "output_type": "display_data"
    }
   ],
   "source": [
    "%%javascript\n",
    "var i = \"50\", limit = 50;\n",
    "if(i == limit){\n",
    "    element.append(\"i et limit ont une valeur égale. <br>\");\n",
    "}\n",
    "\n",
    "if(i !== limit){\n",
    "    element.append(\"i et limit ont une valeur ou un type différent. <br>\");\n",
    "}\n",
    "\n",
    "i = \"000000050.0\"\n",
    "if(i == limit){\n",
    "    element.append(\"i et limit ont une valeur égale. <br>\");\n",
    "}"
   ]
  },
  {
   "cell_type": "code",
   "execution_count": 132,
   "metadata": {},
   "outputs": [
    {
     "data": {
      "application/javascript": [
       "var nom1 = \"Arthur\", nom2 = \"Anne\", nom3 = \"Arborer\";\n",
       "if(nom1[0] == nom3[0] && nom1[nom1.length-1] == nom3[nom3.length-1]){\n",
       "    element.append(nom1 + \" et \" + nom3 + \" ont la première <b>et</b> la dernière lettres identiques. <br>\");\n",
       "}\n",
       "\n",
       "if(nom1[0] == nom2[0] || nom1[nom1.length-1] == nom2[nom2.length-1]){\n",
       "    element.append(nom1 + \" et \" + nom2 + \" ont la première <b>ou</b> la dernière lettres identiques. <br>\");\n",
       "}\n"
      ],
      "text/plain": [
       "<IPython.core.display.Javascript object>"
      ]
     },
     "metadata": {},
     "output_type": "display_data"
    }
   ],
   "source": [
    "%%javascript\n",
    "var nom1 = \"Arthur\", nom2 = \"Anne\", nom3 = \"Arborer\";\n",
    "if(nom1[0] == nom3[0] && nom1[nom1.length-1] == nom3[nom3.length-1]){\n",
    "    element.append(nom1 + \" et \" + nom3 + \" ont la première <b>et</b> la dernière lettres identiques. <br>\");\n",
    "}\n",
    "\n",
    "if(nom1[0] == nom2[0] || nom1[nom1.length-1] == nom2[nom2.length-1]){\n",
    "    element.append(nom1 + \" et \" + nom2 + \" ont la première <b>ou</b> la dernière lettres identiques. <br>\");\n",
    "}\n"
   ]
  },
  {
   "cell_type": "markdown",
   "metadata": {},
   "source": [
    "### Test si - sinon"
   ]
  },
  {
   "cell_type": "code",
   "execution_count": 90,
   "metadata": {},
   "outputs": [
    {
     "data": {
      "application/javascript": [
       "var i = 50, limit = 49;\n",
       "if(i <= limit){\n",
       "    element.append(i + \" inférieur ou égal à \" + limit);\n",
       "}\n",
       "else{\n",
       "    element.append(i + \" supérieur à \" + limit);\n",
       "}\n"
      ],
      "text/plain": [
       "<IPython.core.display.Javascript object>"
      ]
     },
     "metadata": {},
     "output_type": "display_data"
    }
   ],
   "source": [
    "%%javascript\n",
    "var i = 50, limit = 49;\n",
    "if(i <= limit){\n",
    "    element.append(i + \" inférieur ou égal à \" + limit);\n",
    "}\n",
    "else{\n",
    "    element.append(i + \" supérieur à \" + limit);\n",
    "}"
   ]
  },
  {
   "cell_type": "code",
   "execution_count": 93,
   "metadata": {},
   "outputs": [
    {
     "data": {
      "application/javascript": [
       "var i = 50, limit = 50;\n",
       "if(i < limit){\n",
       "    element.append(i + \" inférieur à \" + limit);\n",
       "}\n",
       "else if(i > limit){\n",
       "    element.append(i + \" supérieur à \" + limit);\n",
       "}\n",
       "else{\n",
       "    element.append(i + \" égal à \" + limit);\n",
       "}\n"
      ],
      "text/plain": [
       "<IPython.core.display.Javascript object>"
      ]
     },
     "metadata": {},
     "output_type": "display_data"
    }
   ],
   "source": [
    "%%javascript\n",
    "var i = 50, limit = 50;\n",
    "if(i < limit){\n",
    "    element.append(i + \" inférieur à \" + limit);\n",
    "}\n",
    "else if(i > limit){\n",
    "    element.append(i + \" supérieur à \" + limit);\n",
    "}\n",
    "else{\n",
    "    element.append(i + \" égal à \" + limit);\n",
    "}"
   ]
  },
  {
   "cell_type": "markdown",
   "metadata": {},
   "source": [
    "### Tests multiples"
   ]
  },
  {
   "cell_type": "code",
   "execution_count": 105,
   "metadata": {},
   "outputs": [
    {
     "data": {
      "application/javascript": [
       "function legume(i){\n",
       "    switch(i){\n",
       "        case 1:\n",
       "            element.append(i + \" Carotte <br>\");\n",
       "            break;\n",
       "        case 2:\n",
       "        case 3:\n",
       "            element.append(i + \" Navet <br>\");\n",
       "            break;\n",
       "        default:\n",
       "            element.append(i + \" Autres légumes <br>\");\n",
       "    }\n",
       "}\n",
       "var i = 1, j = 2, k = 3, l = 4;\n",
       "legume(i), legume(j), legume(k), legume(l);\n"
      ],
      "text/plain": [
       "<IPython.core.display.Javascript object>"
      ]
     },
     "metadata": {},
     "output_type": "display_data"
    }
   ],
   "source": [
    "%%javascript\n",
    "function legume(i){\n",
    "    switch(i){\n",
    "        case 1:\n",
    "            element.append(i + \" Carotte <br>\");\n",
    "            break;\n",
    "        case 2:\n",
    "        case 3:\n",
    "            element.append(i + \" Navet <br>\");\n",
    "            break;\n",
    "        default:\n",
    "            element.append(i + \" Autres légumes <br>\");\n",
    "    }\n",
    "}\n",
    "var i = 1, j = 2, k = 3, l = 4;\n",
    "legume(i), legume(j), legume(k), legume(l);"
   ]
  },
  {
   "cell_type": "markdown",
   "metadata": {},
   "source": [
    "### Opérateur ternaire"
   ]
  },
  {
   "cell_type": "code",
   "execution_count": 112,
   "metadata": {},
   "outputs": [
    {
     "data": {
      "application/javascript": [
       "var nom = \"Arthur\";\n",
       "nom[0] == \"A\" ? element.append(\"Couhière !\") : element.append(\"Interprèèèète !\");\n"
      ],
      "text/plain": [
       "<IPython.core.display.Javascript object>"
      ]
     },
     "metadata": {},
     "output_type": "display_data"
    }
   ],
   "source": [
    "%%javascript\n",
    "var nom = \"Arthur\";\n",
    "nom[0] == \"A\" ? element.append(\"Couhière !\") : element.append(\"Interprèèèète !\");"
   ]
  },
  {
   "cell_type": "markdown",
   "metadata": {},
   "source": [
    "### Évaluation court-circuit"
   ]
  },
  {
   "cell_type": "code",
   "execution_count": 43,
   "metadata": {},
   "outputs": [
    {
     "data": {
      "application/javascript": [
       "function direBonjour(){\n",
       "    element.append(\"Bonjour ! <br>\");\n",
       "}\n",
       "var aimable = true;\n",
       "element.append(\"1 <br>\");\n",
       "aimable && direBonjour(); // équivaut à if(aimable){direBonjour();}.\n",
       "aimable = false;\n",
       "element.append(\"2 <br>\");\n",
       "aimable && direBonjour();\n",
       "element.append(\"3 <br>\");\n",
       "aimable || direBonjour(); // équivant à if(!aimable){direBonjour();}.\n",
       "aimable = false;\n",
       "element.append(\"4 <br>\");\n",
       "aimable || direBonjour();\n"
      ],
      "text/plain": [
       "<IPython.core.display.Javascript object>"
      ]
     },
     "metadata": {},
     "output_type": "display_data"
    }
   ],
   "source": [
    "%%javascript\n",
    "function direBonjour(){\n",
    "    element.append(\"Bonjour ! <br>\");\n",
    "}\n",
    "var aimable = true;\n",
    "element.append(\"1 <br>\");\n",
    "aimable && direBonjour(); // équivaut à if(aimable){direBonjour();}.\n",
    "aimable = false;\n",
    "element.append(\"2 <br>\");\n",
    "aimable && direBonjour();\n",
    "element.append(\"3 <br>\");\n",
    "aimable || direBonjour(); // équivant à if(!aimable){direBonjour();}.\n",
    "aimable = false;\n",
    "element.append(\"4 <br>\");\n",
    "aimable || direBonjour();"
   ]
  },
  {
   "cell_type": "markdown",
   "metadata": {},
   "source": [
    "## Les boucles <a name=\"boucles\"></a>\n",
    "\n",
    "Une boucle en programmation est un traitement répété plusieurs fois grâce à un bloc d'instructions codé une seule fois.\n",
    "\n",
    "### Boucle *for*"
   ]
  },
  {
   "cell_type": "code",
   "execution_count": 64,
   "metadata": {},
   "outputs": [
    {
     "data": {
      "application/javascript": [
       "var tableau = [];\n",
       "for(let i = 0; i < 10; i++){\n",
       "    tableau.push(i);\n",
       "}\n",
       "element.text(tableau.toString());\n"
      ],
      "text/plain": [
       "<IPython.core.display.Javascript object>"
      ]
     },
     "metadata": {},
     "output_type": "display_data"
    }
   ],
   "source": [
    "%%javascript\n",
    "var tableau = [];\n",
    "for(let i = 0; i < 10; i++){\n",
    "    tableau.push(i);\n",
    "}\n",
    "element.text(tableau.toString());"
   ]
  },
  {
   "cell_type": "code",
   "execution_count": 65,
   "metadata": {},
   "outputs": [
    {
     "data": {
      "application/javascript": [
       "var tableau = [];\n",
       "for(let i = 0; i < 10; i++){\n",
       "    if(i > 5){\n",
       "        break;\n",
       "    }\n",
       "    tableau.push(i);\n",
       "}\n",
       "element.text(tableau.toString());\n"
      ],
      "text/plain": [
       "<IPython.core.display.Javascript object>"
      ]
     },
     "metadata": {},
     "output_type": "display_data"
    }
   ],
   "source": [
    "%%javascript\n",
    "var tableau = [];\n",
    "for(let i = 0; i < 10; i++){\n",
    "    if(i > 5){\n",
    "        break;\n",
    "    }\n",
    "    tableau.push(i);\n",
    "}\n",
    "element.text(tableau.toString());"
   ]
  },
  {
   "cell_type": "markdown",
   "metadata": {},
   "source": [
    "### Boucle *for...of*\n",
    "\n",
    "L'instruction *for...of* permet de créer une boucle Array qui parcourt un **objet itérable** (ce qui inclut notamment les objets *Array* et *Map*) et qui permet d'exécuter une ou plusieurs instructions pour la valeur de chaque propriété. Un exemple est présenté dans la sous-section présentant la méthode *keys()* de l'objet *Map*."
   ]
  },
  {
   "cell_type": "markdown",
   "metadata": {},
   "source": [
    "### Boucle *while*"
   ]
  },
  {
   "cell_type": "code",
   "execution_count": 66,
   "metadata": {},
   "outputs": [
    {
     "data": {
      "application/javascript": [
       "let i = 0, tableau = [];\n",
       "while(i < 10){\n",
       "    tableau.push(i);\n",
       "    i++;\n",
       "}\n",
       "element.text(tableau.toString());\n"
      ],
      "text/plain": [
       "<IPython.core.display.Javascript object>"
      ]
     },
     "metadata": {},
     "output_type": "display_data"
    }
   ],
   "source": [
    "%%javascript\n",
    "let i = 0, tableau = [];\n",
    "while(i < 10){\n",
    "    tableau.push(i);\n",
    "    i++;\n",
    "}\n",
    "element.text(tableau.toString());"
   ]
  },
  {
   "cell_type": "code",
   "execution_count": 67,
   "metadata": {},
   "outputs": [
    {
     "data": {
      "application/javascript": [
       "let i = 0, recherche = true, tableau = [];\n",
       "while(i < 10 && recherche){\n",
       "    if(i > 5){\n",
       "        recherche = false;\n",
       "    }\n",
       "    else{\n",
       "        tableau.push(i);\n",
       "        i++;\n",
       "    }\n",
       "}\n",
       "element.text(tableau.toString());\n"
      ],
      "text/plain": [
       "<IPython.core.display.Javascript object>"
      ]
     },
     "metadata": {},
     "output_type": "display_data"
    }
   ],
   "source": [
    "%%javascript\n",
    "let i = 0, recherche = true, tableau = [];\n",
    "while(i < 10 && recherche){\n",
    "    if(i > 5){\n",
    "        recherche = false;\n",
    "    }\n",
    "    else{\n",
    "        tableau.push(i);\n",
    "        i++;\n",
    "    }\n",
    "}\n",
    "element.text(tableau.toString());"
   ]
  },
  {
   "cell_type": "markdown",
   "metadata": {},
   "source": [
    "### Boucle *do{ }while()*"
   ]
  },
  {
   "cell_type": "code",
   "execution_count": 68,
   "metadata": {},
   "outputs": [
    {
     "data": {
      "application/javascript": [
       "let i = 0, recherche = true, tableau = [];\n",
       "do{\n",
       "    tableau.push(i);\n",
       "    i++;\n",
       "}while(i <= 0);\n",
       "element.append(tableau.toString());\n"
      ],
      "text/plain": [
       "<IPython.core.display.Javascript object>"
      ]
     },
     "metadata": {},
     "output_type": "display_data"
    }
   ],
   "source": [
    "%%javascript\n",
    "let i = 0, recherche = true, tableau = [];\n",
    "do{\n",
    "    tableau.push(i);\n",
    "    i++;\n",
    "}while(i <= 0);\n",
    "element.append(tableau.toString());"
   ]
  },
  {
   "cell_type": "markdown",
   "metadata": {},
   "source": [
    "# La programmation orientée objet <a name=\"programmation-orientee-objet\"></a>\n",
    "\n",
    "La programmation objet est une vision alternative du développement plus traditionnel, qui s’appuie sur des appels de fonctions avec des paramètres d’entrée. Elle nous permet de modéliser et manipuler des objets complexes.\n",
    "\n",
    "<img src=\"images/poo.png\" alt=\"POO\"/>\n",
    "\n",
    "Dans la programmation objet, un objet est associé à un type, appelé **classe** de l’objet, déﬁnissant la structure des propriétés et de ses fonctionnalités. Un objet, appelé **instance**, contient les données liées à la structure.\n",
    "\n",
    "## La programmation objet avant ES6 <a name=\"programmation-objet-avant-es6\"></a>\n"
   ]
  },
  {
   "cell_type": "code",
   "execution_count": 50,
   "metadata": {},
   "outputs": [
    {
     "data": {
      "application/javascript": [
       "function Animal(nom, age){\n",
       "    this.nom = nom;\n",
       "    this.age = age;\n",
       "}\n",
       "\n",
       "var animal1 = new Animal(\"Flipper\", 8);\n",
       "element.append(animal1.nom + \"<br>\");\n",
       "\n",
       "Animal.prototype.manger = function(){\n",
       "    element.append(this.nom + \" est en train de manger. <br>\");\n",
       "}\n",
       "\n",
       "function Chien(nom, age, race){\n",
       "    Animal.call(this, nom, age); // Héritage des attributs.\n",
       "    this.race = race;\n",
       "}\n",
       "\n",
       "animal1.manger();\n",
       "\n",
       "Chien.prototype = Object.create(Animal.prototype); // Héritage des méthodes.\n",
       "var chien1 = new Chien(\"Snoopy\", 10, \"Labrador\");\n",
       "element.append(chien1.nom + \" est un(e) \" + chien1.race + \". <br>\")\n",
       "\n",
       "chien1.manger();\n",
       "\n"
      ],
      "text/plain": [
       "<IPython.core.display.Javascript object>"
      ]
     },
     "metadata": {},
     "output_type": "display_data"
    }
   ],
   "source": [
    "%%javascript\n",
    "function Animal(nom, age){\n",
    "    this.nom = nom;\n",
    "    this.age = age;\n",
    "}\n",
    "\n",
    "var animal1 = new Animal(\"Flipper\", 8);\n",
    "element.append(animal1.nom + \"<br>\");\n",
    "\n",
    "Animal.prototype.manger = function(){\n",
    "    element.append(this.nom + \" est en train de manger. <br>\");\n",
    "}\n",
    "\n",
    "function Chien(nom, age, race){\n",
    "    Animal.call(this, nom, age); // Héritage des attributs.\n",
    "    this.race = race;\n",
    "}\n",
    "\n",
    "animal1.manger();\n",
    "\n",
    "Chien.prototype = Object.create(Animal.prototype); // Héritage des méthodes.\n",
    "var chien1 = new Chien(\"Snoopy\", 10, \"Labrador\");\n",
    "element.append(chien1.nom + \" est un(e) \" + chien1.race + \". <br>\")\n",
    "\n",
    "chien1.manger();\n",
    "\n"
   ]
  },
  {
   "cell_type": "markdown",
   "metadata": {},
   "source": [
    "<hr>\n",
    "<div>\n",
    "    <img src=\"images/idea.png\" alt=\"idea\" width=\"30\" style=\"float:left; margin-right:15px;\"/> \n",
    "</div>\n",
    "JavaScript est un langage basé sur les prototypes. Un prototype est un objet à partir duquel on crée de nouveaux objets permettant de gérer la notion d'héritage.\n",
    "<hr>\n",
    "\n",
    "Cette façon de construire un objet est également utiliser pour représenter un tableau associatif clé/valeur. \n",
    "\n",
    "<u>Inconvénients</u>:\n",
    "* L'ordre des clés n'est pas respecté lorsque l'on itère sur l'objet.\n",
    "* Certaines fonctionalités sont moins instuitives (*e.g.* obtenir la taille du tableau).\n",
    "* Les clés d'un objet sont forcément représentées par une chaîne de caractères.\n",
    "\n",
    "<u>Avantages</u>:\n",
    "* Compatible au format JSON.\n",
    "* Syntaxe plus légère"
   ]
  },
  {
   "cell_type": "code",
   "execution_count": 11,
   "metadata": {},
   "outputs": [
    {
     "data": {
      "application/javascript": [
       "var animal = {\"nom\": \"Flipper\", \"age\": 8};\n",
       "element.append(animal[\"nom\"] + \"<br>\");\n",
       "element.append(\"animal contient \" + Object.keys(animal).length + \" clés <br>\");\n",
       "element.append(JSON.stringify(animal) + \"<br>\");\n",
       "var str_animal = JSON.parse('{\"nom\": \"Snoopy\", \"age\": 10}');  // JSON.parse() pour lire un format stringify.\n",
       "element.append(str_animal[\"age\"] + \"<br>\");\n"
      ],
      "text/plain": [
       "<IPython.core.display.Javascript object>"
      ]
     },
     "metadata": {},
     "output_type": "display_data"
    }
   ],
   "source": [
    "%%javascript\n",
    "var animal = {\"nom\": \"Flipper\", \"age\": 8};\n",
    "element.append(animal[\"nom\"] + \"<br>\");\n",
    "element.append(\"animal contient \" + Object.keys(animal).length + \" clés <br>\");\n",
    "element.append(JSON.stringify(animal) + \"<br>\");\n",
    "var str_animal = JSON.parse('{\"nom\": \"Snoopy\", \"age\": 10}');  // JSON.parse() pour lire un format stringify.\n",
    "element.append(str_animal[\"age\"] + \"<br>\");"
   ]
  },
  {
   "cell_type": "markdown",
   "metadata": {},
   "source": [
    "## La programmation objet après ES6 <a name=\"programmation-objet-apres-es6\"></a>\n",
    "\n",
    "La version ES6 introduit les classes JavaScript (*class*) se rapprochant de la syntaxe objet d'autres langage de programmation (Java, Python, etc.).\n",
    "\n",
    "### Construire une classe"
   ]
  },
  {
   "cell_type": "code",
   "execution_count": 21,
   "metadata": {},
   "outputs": [
    {
     "data": {
      "application/javascript": [
       "class Animal{\n",
       "    constructor(nom, age){\n",
       "        this._nom = nom;\n",
       "        this.age = age;\n",
       "    }\n",
       "    \n",
       "    manger(){\n",
       "        element.append(this.nom + \" est en train de manger. <br>\");\n",
       "    }\n",
       "}\n",
       "\n",
       "var animal1 = new Animal(\"Flipper\", 8);\n",
       "animal1.nom = \"Snoopy\";\n",
       "element.append(animal1.nom + \"<br>\");\n",
       "animal1.manger();\n"
      ],
      "text/plain": [
       "<IPython.core.display.Javascript object>"
      ]
     },
     "metadata": {},
     "output_type": "display_data"
    }
   ],
   "source": [
    "%%javascript\n",
    "class Animal{\n",
    "    constructor(nom, age){\n",
    "        this._nom = nom;\n",
    "        this.age = age;\n",
    "    }\n",
    "    \n",
    "    manger(){\n",
    "        element.append(this.nom + \" est en train de manger. <br>\");\n",
    "    }\n",
    "}\n",
    "\n",
    "var animal1 = new Animal(\"Flipper\", 8);\n",
    "animal1.nom = \"Snoopy\";\n",
    "element.append(animal1.nom + \"<br>\");\n",
    "animal1.manger();"
   ]
  },
  {
   "cell_type": "markdown",
   "metadata": {},
   "source": [
    "### Héritage\n",
    "\n",
    "Notre objet de type Animal peut servir de support aux constructeurs d’autres espèces d’animaux. Le mot-clé **extends** permet d'hériter des attributs et des méthodes d'une classe."
   ]
  },
  {
   "cell_type": "code",
   "execution_count": 57,
   "metadata": {},
   "outputs": [
    {
     "data": {
      "application/javascript": [
       "class Animal{\n",
       "    constructor(nom, age){\n",
       "        this.nom = nom;\n",
       "        this.age = age;\n",
       "    }\n",
       "    \n",
       "    manger(){\n",
       "        element.append(this.nom + \" est en train de manger. <br>\");\n",
       "    }\n",
       "}\n",
       "\n",
       "class Chien extends Animal{\n",
       "    constructor(nom, age, race){\n",
       "        super(nom, age);\n",
       "        this.race = race;\n",
       "    }\n",
       "    \n",
       "    manger(){\n",
       "        super.manger();\n",
       "        element.append(\"Il mange des croquettes. <br>\");\n",
       "    }\n",
       "    \n",
       "}\n",
       "\n",
       "var chien1 = new Chien(\"Snoopy\", 10, \"Labrador\");\n",
       "element.append(chien1.nom + \"<br>\");\n",
       "chien1.manger();\n"
      ],
      "text/plain": [
       "<IPython.core.display.Javascript object>"
      ]
     },
     "metadata": {},
     "output_type": "display_data"
    }
   ],
   "source": [
    "%%javascript\n",
    "class Animal{\n",
    "    constructor(nom, age){\n",
    "        this.nom = nom;\n",
    "        this.age = age;\n",
    "    }\n",
    "    \n",
    "    manger(){\n",
    "        element.append(this.nom + \" est en train de manger. <br>\");\n",
    "    }\n",
    "}\n",
    "\n",
    "class Chien extends Animal{\n",
    "    constructor(nom, age, race){\n",
    "        super(nom, age);\n",
    "        this.race = race;\n",
    "    }\n",
    "    \n",
    "    manger(){\n",
    "        super.manger();\n",
    "        element.append(\"Il mange des croquettes. <br>\");\n",
    "    }\n",
    "    \n",
    "}\n",
    "\n",
    "var chien1 = new Chien(\"Snoopy\", 10, \"Labrador\");\n",
    "element.append(chien1.nom + \"<br>\");\n",
    "chien1.manger();"
   ]
  },
  {
   "cell_type": "markdown",
   "metadata": {},
   "source": [
    "<hr>\n",
    "<div>\n",
    "    <img src=\"images/idea.png\" alt=\"idea\" width=\"30\" style=\"float:left; margin-right:15px;\"/> \n",
    "</div>\n",
    "JavaScript ne supporte pas l'héritage multiple.\n",
    "<hr>\n",
    "\n",
    "### Méthodes statiques\n",
    "\n",
    "Le mot-clé *static* permet de définir une méthode statique d'une classe. Les méthodes statiques ne sont pas disponibles sur les instances d'une classe mais sont appelées sur la classe elle-même. Les méthodes statiques sont généralement des fonctions utilitaires (qui peuvent permettre de créer ou de cloner des objets par exemple)."
   ]
  },
  {
   "cell_type": "code",
   "execution_count": 5,
   "metadata": {},
   "outputs": [
    {
     "data": {
      "application/javascript": [
       "class Animal{\n",
       "    constructor(nom, age){\n",
       "        this.nom = nom;\n",
       "        this.age = age;\n",
       "        Animal.count++;\n",
       "    }\n",
       "    \n",
       "    manger(){\n",
       "        element.append(this.nom + \" est en train de manger. <br>\");\n",
       "    }\n",
       "    \n",
       "    static Count(){\n",
       "        return Animal.count;\n",
       "    }\n",
       "}\n",
       "\n",
       "Animal.count = 0; // Déclaration de l'attribut statique.\n",
       "\n",
       "var animal1 = new Animal(\"Flipper\", 8);\n",
       "element.append(Animal.Count() + \"<br>\");\n",
       "var animal2 = new Animal(\"Snoopy\", 10);\n",
       "element.append(Animal.Count() + \"<br>\");\n",
       "animal2.Count();\n"
      ],
      "text/plain": [
       "<IPython.core.display.Javascript object>"
      ]
     },
     "metadata": {},
     "output_type": "display_data"
    }
   ],
   "source": [
    "%%javascript\n",
    "class Animal{\n",
    "    constructor(nom, age){\n",
    "        this.nom = nom;\n",
    "        this.age = age;\n",
    "        Animal.count++;\n",
    "    }\n",
    "    \n",
    "    manger(){\n",
    "        element.append(this.nom + \" est en train de manger. <br>\");\n",
    "    }\n",
    "    \n",
    "    static Count(){\n",
    "        return Animal.count;\n",
    "    }\n",
    "}\n",
    "\n",
    "Animal.count = 0; // Déclaration de l'attribut statique.\n",
    "\n",
    "var animal1 = new Animal(\"Flipper\", 8);\n",
    "element.append(Animal.Count() + \"<br>\");\n",
    "var animal2 = new Animal(\"Snoopy\", 10);\n",
    "element.append(Animal.Count() + \"<br>\");\n",
    "animal2.Count(); // Impossible d'appeler une méthode statique d'une instance de la classe Animal."
   ]
  },
  {
   "cell_type": "markdown",
   "metadata": {},
   "source": [
    "# L'intéractivité <a name=\"interactivite\"></a>\n",
    "\n",
    "## La programmation événementielle <a name=\"programmation-evenementielle\"></a>\n",
    "\n",
    "Le JavaScript est un langage événementiel, c'est-à-dire qu'il détecte les événements qui surviennent sur la page, y réagit et déclenche de nouveaux traitements. Un événement est un changement d'état qui survient sur la page (mouvements de souris, clic sur un élément, touché appuyée, chargement d'un élément de la page, *etc.*).\n",
    "\n",
    "<div style=\"width:100%;text-align:center;\">\n",
    "    <img src=\"images/javascript-events.png\" alt=\"Événements\"/>\n",
    "    <span>Source: <a href=\"https://openclassrooms.com/fr/courses/1916641-dynamisez-vos-sites-web-avec-javascript/1918968-les-evenements\">openclassrooms</a>.</span>\n",
    "</div>\n",
    "\n",
    "### Détection dans le code HTML <a name=\"detection-code-html\"></a>"
   ]
  },
  {
   "cell_type": "code",
   "execution_count": 21,
   "metadata": {},
   "outputs": [
    {
     "data": {
      "text/html": [
       "<html>\n",
       "  <head>\n",
       "    <title>Hello World</title>\n",
       "  </head>\n",
       "  <body>\n",
       "    <button onclick=\"alert('Pas changer assiette pour fromage !');\"> ARTHOUUUUR </button>\n",
       "    <button onclick=\"compteur++; alert(compteur);\"> Je sais compter </button>\n",
       "    <button id=\"button3\" onclick=\"colorChange();\"> Poème </button>\n",
       "    \n",
       "    <script type=\"text/javascript\">\n",
       "      var compteur = 0;\n",
       "      function colorChange(){\n",
       "          color = document.getElementById(\"button3\").style.color;\n",
       "          switch(color){\n",
       "              case \"red\":\n",
       "                  document.getElementById(\"button3\").style.color = \"blue\";\n",
       "                  document.getElementById(\"button3\").innerHTML = \"Violets are blue\";\n",
       "                  break;\n",
       "              case \"blue\":\n",
       "                  document.getElementById(\"button3\").style.color = \"red\";\n",
       "                  document.getElementById(\"button3\").innerHTML = \"Roses are red\";\n",
       "                  break;\n",
       "              default:\n",
       "                  document.getElementById(\"button3\").style.color = \"red\";\n",
       "                  document.getElementById(\"button3\").innerHTML = \"Roses are red\";\n",
       "          }\n",
       "      }\n",
       "    </script>\n",
       "    \n",
       "  </body>\n",
       "</html>\n"
      ],
      "text/plain": [
       "<IPython.core.display.HTML object>"
      ]
     },
     "metadata": {},
     "output_type": "display_data"
    }
   ],
   "source": [
    "%%HTML\n",
    "<html>\n",
    "  <head>\n",
    "    <title>Intéractivité</title>\n",
    "  </head>\n",
    "  <body>\n",
    "    <button onclick=\"alert('Pas changer assiette pour fromage !');\"> ARTHOUUUUR </button>\n",
    "    <button onclick=\"compteur++; alert(compteur);\"> Je sais compter </button>\n",
    "    <button id=\"button3\" onclick=\"colorChange();\"> Poème </button>\n",
    "    \n",
    "    <script type=\"text/javascript\">\n",
    "      var compteur = 0;\n",
    "      function colorChange(){\n",
    "          color = document.getElementById(\"button3\").style.color;\n",
    "          switch(color){\n",
    "              case \"red\":\n",
    "                  document.getElementById(\"button3\").style.color = \"blue\";\n",
    "                  document.getElementById(\"button3\").innerHTML = \"Violets are blue\";\n",
    "                  break;\n",
    "              case \"blue\":\n",
    "                  document.getElementById(\"button3\").style.color = \"red\";\n",
    "                  document.getElementById(\"button3\").innerHTML = \"Roses are red\";\n",
    "                  break;\n",
    "              default:\n",
    "                  document.getElementById(\"button3\").style.color = \"red\";\n",
    "                  document.getElementById(\"button3\").innerHTML = \"Roses are red\";\n",
    "          }\n",
    "      }\n",
    "    </script>\n",
    "    \n",
    "  </body>\n",
    "</html>"
   ]
  },
  {
   "cell_type": "markdown",
   "metadata": {},
   "source": [
    "Cette manière de déclarer des événements par attribut est rapide mais présente l'inconvénient de mélanger le traitement JavaScript à la mise en forme des données via HTML.\n",
    "\n",
    "### Détection par gestionnaire d'événements <a name=\"detection-gestionnaire-evenements\"></a>\n",
    "\n",
    "Le gestionnaire d'événements permet de centraliser la déclaration des événements dans un bloc JavaScript sans modifier le code HTML gardant ainsi la séparation entre traitements et données.\n",
    "\n",
    "***target.addEventListener(String myEvent, Function toDo, [options]);***\n",
    "\n",
    "* *target*: correspond à l'élément ciblé dans le code HTML.\n",
    "* *myEvent*: le type d'événement à détecter.\n",
    "* *toDo*: une fonction qui reçoit en paramètre l'objet de type *Event* détecté.\n",
    "* Le paramètre facultatif *options* spécifie les caractéristiques de l'écouteur d'évènements (*e.g.* {\"once\": true} supprime automatiquement le *listener* après son premier appel."
   ]
  },
  {
   "cell_type": "code",
   "execution_count": 6,
   "metadata": {},
   "outputs": [
    {
     "data": {
      "text/html": [
       "<html>\n",
       "  <head>\n",
       "    <title>Intéractivité</title>\n",
       "  </head>\n",
       "  <body>\n",
       "    <button id=\"button1\"> Poème </button>\n",
       "    \n",
       "    <script type=\"text/javascript\">\n",
       "        var button1 = document.getElementById(\"button1\");\n",
       "        button1.addEventListener(\"click\", colorChange); // {\"once\": true}\n",
       "        function colorChange(evt){\n",
       "            let color = evt.currentTarget.style.color;\n",
       "            switch(color){\n",
       "              case \"red\":\n",
       "                  evt.currentTarget.style.color = \"blue\";\n",
       "                  evt.currentTarget.innerHTML = \"Violets are blue\";\n",
       "                  break;\n",
       "              case \"blue\":\n",
       "                  evt.currentTarget.style.color = \"red\";\n",
       "                  evt.currentTarget.innerHTML = \"Roses are red\";\n",
       "                  break;\n",
       "              default:\n",
       "                  evt.currentTarget.style.color = \"red\";\n",
       "                  evt.currentTarget.innerHTML = \"Roses are red\";\n",
       "          }\n",
       "        }\n",
       "    </script>\n",
       "    \n",
       "  </body>\n",
       "</html>\n"
      ],
      "text/plain": [
       "<IPython.core.display.HTML object>"
      ]
     },
     "metadata": {},
     "output_type": "display_data"
    }
   ],
   "source": [
    "%%HTML\n",
    "<html>\n",
    "  <head>\n",
    "    <title>Intéractivité</title>\n",
    "  </head>\n",
    "  <body>\n",
    "    <button id=\"button1\"> Poème </button>\n",
    "    \n",
    "    <script type=\"text/javascript\">\n",
    "        var button1 = document.getElementById(\"button1\");\n",
    "        button1.addEventListener(\"click\", colorChange); // {\"once\": true}\n",
    "        function colorChange(evt){\n",
    "            let color = evt.currentTarget.style.color;\n",
    "            switch(color){\n",
    "              case \"red\":\n",
    "                  evt.currentTarget.style.color = \"blue\";\n",
    "                  evt.currentTarget.innerHTML = \"Violets are blue\";\n",
    "                  break;\n",
    "              case \"blue\":\n",
    "                  evt.currentTarget.style.color = \"red\";\n",
    "                  evt.currentTarget.innerHTML = \"Roses are red\";\n",
    "                  break;\n",
    "              default:\n",
    "                  evt.currentTarget.style.color = \"red\";\n",
    "                  evt.currentTarget.innerHTML = \"Roses are red\";\n",
    "          }\n",
    "        }\n",
    "    </script>\n",
    "    \n",
    "  </body>\n",
    "</html>"
   ]
  },
  {
   "cell_type": "markdown",
   "metadata": {},
   "source": [
    "La fonction *colorChange()* reçoit en paramètre *evt* un objet de type *Event*. Un objet *Event* contient deux propriétés de cible. La propriété *currentTarget* référence l'objet sur lequel l'événement a été attaché et la propriété *target* référence l'objet sur lequel l'événement s'est produit."
   ]
  },
  {
   "cell_type": "code",
   "execution_count": 5,
   "metadata": {},
   "outputs": [
    {
     "data": {
      "text/html": [
       "<html>\n",
       "  <head>\n",
       "    <title>Intéractivité</title>\n",
       "  </head>\n",
       "  <body>\n",
       "    <ul id=\"ul1\">\n",
       "        <li> Arthur </li>\n",
       "        <li> Perceval </li>\n",
       "        <li> Merlin </li>\n",
       "    </ul>\n",
       "    \n",
       "    <div id=\"maDiv\"> Cliquez sur un nom! </div>\n",
       "    \n",
       "    <script type=\"text/javascript\">\n",
       "        var ul1 = document.getElementById(\"ul1\");\n",
       "        ul1.addEventListener(\"click\", direBonjour);\n",
       "        function direBonjour(evt){\n",
       "            if(evt.target.nodeName == \"LI\"){\n",
       "                document.getElementById(\"maDiv\").innerHTML = \"Bonjour \" + evt.target.innerHTML +\n",
       "                    \" (\" + (evt.currentTarget.id) + \") !\";\n",
       "            }\n",
       "        }\n",
       "    </script>\n",
       "    \n",
       "  </body>\n",
       "</html>\n"
      ],
      "text/plain": [
       "<IPython.core.display.HTML object>"
      ]
     },
     "metadata": {},
     "output_type": "display_data"
    }
   ],
   "source": [
    "%%HTML\n",
    "<html>\n",
    "  <head>\n",
    "    <title>Intéractivité</title>\n",
    "  </head>\n",
    "  <body>\n",
    "    <ul id=\"ul1\">\n",
    "        <li> Arthur </li>\n",
    "        <li> Perceval </li>\n",
    "        <li> Merlin </li>\n",
    "    </ul>\n",
    "    \n",
    "    <div id=\"maDiv\"> Cliquez sur un nom! </div>\n",
    "    \n",
    "    <script type=\"text/javascript\">\n",
    "        var ul1 = document.getElementById(\"ul1\");\n",
    "        ul1.addEventListener(\"click\", direBonjour);\n",
    "        function direBonjour(evt){\n",
    "            if(evt.target.nodeName == \"LI\"){ // Évite de considérer UL dans le retour.\n",
    "                document.getElementById(\"maDiv\").innerHTML = \"Bonjour \" + evt.target.innerHTML +\n",
    "                    \" (\" + (evt.currentTarget.id) + \") !\";\n",
    "            }\n",
    "        }\n",
    "    </script>\n",
    "    \n",
    "  </body>\n",
    "</html>"
   ]
  },
  {
   "cell_type": "markdown",
   "metadata": {},
   "source": [
    "La fonction ***target.addEventListener(String myEvent, Function toDo, [options]);*** permet de supprimer l'événement de type *myEvent* associé à la fonction *toDo*."
   ]
  },
  {
   "cell_type": "markdown",
   "metadata": {},
   "source": [
    "## La manipulation du document \n",
    "\n",
    "### Le DOM\n",
    "\n",
    "Le DOM (*Document Object Model*) est une organisation hiérarchisée en arborescence de l'ensemble des éléments du document. Chaque élément forme un noeud (*node*) dans le document.\n",
    "\n",
    "L'objet *document* supporte l'ensemble des éléments HTML de la page. Il est l'objet racine du DOM qui donne accès à toutes les méthodes de recherche, de manipulation et de création des éléments HTML."
   ]
  },
  {
   "cell_type": "code",
   "execution_count": null,
   "metadata": {},
   "outputs": [],
   "source": [
    "%%HTML\n",
    "<!doctype html>\n",
    "<html>\n",
    "    <head>\n",
    "        <title>My title</title>\n",
    "    </head>\n",
    "    <body>\n",
    "        <h1>My header</h1>\n",
    "        <a href=\"\">My link</a>\n",
    "    </body>\n",
    "</html>"
   ]
  },
  {
   "cell_type": "markdown",
   "metadata": {},
   "source": [
    "<div style=\"width:100%;text-align:center;\">\n",
    "    <img src=\"images/pic_htmltree.gif\" alt=\"DOM\"/>\n",
    "    <span>Source: <a href=\"https://www.w3schools.com/js/js_htmldom_navigation.asp\">W3Schools</a>.</span>\n",
    "</div>"
   ]
  },
  {
   "cell_type": "markdown",
   "metadata": {},
   "source": [
    "### Trouver les éléments du document\n",
    "\n",
    "Il existe plusieurs méthodes permettant de rechercher des éléments au sein du DOM qui se basent sur la nature des balises ou de leurs attributs.\n",
    "\n",
    "* La méthode *getElementById(String param)* de *document* retourne le premier élément HTML du DOM ayant l'attribut *id* passé en paramètre.\n",
    "* La méthode *getElementsByClassName(String param)* retourne une liste d'éléments dont la classe CSS correspond au nom de classe passé en paramètre.\n",
    "* La méthode *getElementsByTagName(String param)* retourne une liste d'éléments dont la balise correspond à la balise passée en paramètre.\n",
    "* La méthode *getElementsByName(String param)* retourne une liste  d'éléments dont l'attribut *name* correspond au nom passé en paramètre.\n",
    "\n",
    "<hr>\n",
    "<div>\n",
    "    <img src=\"images/idea.png\" alt=\"idea\" width=\"30\" style=\"float:left; margin-right:15px;\"/> \n",
    "</div>\n",
    "Les liste d'éléments retournés n'héritent pas du type *Array* et des méthodes attachées *e.g. map()*.\n",
    "<hr>"
   ]
  },
  {
   "cell_type": "code",
   "execution_count": 44,
   "metadata": {},
   "outputs": [
    {
     "data": {
      "text/html": [
       "<!doctype html>\n",
       "<html>\n",
       "    <head>\n",
       "        <title>My title</title>\n",
       "        <style>\n",
       "          .colorized1{\n",
       "              color: blue;\n",
       "          }\n",
       "        </style>\n",
       "    </head>\n",
       "    <body>\n",
       "        <h4 class=\"colorized1\">My header</h4>\n",
       "        <h4 class=\"colorized1\">My header</h4>\n",
       "        <p name=\"tagP\">My header</p>\n",
       "        <h4 name=\"tagP\">My header</h4>\n",
       "        <span id=\"span1\">My header</span>        \n",
       "    </body>\n",
       "</html>\n"
      ],
      "text/plain": [
       "<IPython.core.display.HTML object>"
      ]
     },
     "metadata": {},
     "output_type": "display_data"
    }
   ],
   "source": [
    "%%HTML\n",
    "<!doctype html>\n",
    "<html>\n",
    "    <head>\n",
    "        <title>My title</title>\n",
    "        <style>\n",
    "          .colorized1{\n",
    "              color: blue;\n",
    "          }\n",
    "        </style>\n",
    "    </head>\n",
    "    <body>\n",
    "        <h4 class=\"colorized1\">My header</h4>\n",
    "        <h4 class=\"colorized1\">My header</h4>\n",
    "        <p name=\"tagP\">My header</p>\n",
    "        <h4 name=\"tagP\">My header</h4>\n",
    "        <span id=\"span1\">My header</span>        \n",
    "    </body>\n",
    "</html>"
   ]
  },
  {
   "cell_type": "code",
   "execution_count": null,
   "metadata": {},
   "outputs": [],
   "source": []
  },
  {
   "cell_type": "markdown",
   "metadata": {},
   "source": [
    "## Les appels AJAX\n",
    "\n",
    "Les appels AJAX (*Asynchronous JAvascript & XML*) permet de communiquer entre le **client** et le **serveur** de manière transparente, sans rechargement de page et sans interruption dans la navigation.\n",
    "\n",
    "Tous les appels AJAX utilisent l'objet *XMLHttpRequest* (XHR), qui définit le type d'appel et les données à envoyer, détecte les différentes étapes de l'appel et reçoit la réponse du serveur. L'objet *XMLHttpRequest* initialise une requête AJAX avec la méthode *open(String type, String url, Boolean estAsynchrone)*. Le paramètre *type* considère usuellement les chaînes *GET* ou *POST* (par convention les requêtes *GET* sont utilisées pour récupérer des données et *POST* pour ajouter/modifier des données sur le serveur), le paramètre *url* correspond au point d'entrée sur le serveur et le paramètre *estAsynchrone* gère la manière de réaliser la requête. Une requête synchrone bloque l'interface utilisateur jusqu'à obtenir une réponse de la part du serveur. Tandis qu'une requête asynchrone fonctionne par l'intermédiaire d'événements qui écoutent les réponses provenant du serveur sans bloquer l'interface.\n",
    "\n",
    "L'envoi de la requête AJAX se fait avec la méthode *send()*. Cette méthode à un paramètre optionnel qui est le corps du message envoyé (utilisé si vous avez des paramètres à envoyer en *POST*).\n",
    "\n",
    "L'objet *XMLHttpRequest* possède 3 principales propriétés renseignées au fur et à mesure de l'avancement de la requête:\n",
    "* *readyState* indique l'avancement de la requête en fonction de 5 états différents.\n",
    "\n",
    "<div style=\"width:100%;text-align:center;\">\n",
    "    <img src=\"images/readystate.png\" alt=\"readyState\"/>\n",
    "    <span>Source: <a href=\"https://openclassrooms.com/fr/courses/1916641-dynamisez-vos-sites-web-avec-javascript/1921308-xmlhttprequest\">openclassroom</a>.</span>\n",
    "</div>\n",
    "\n",
    "* *response* correspond au contenu de la réponse envoyée par le serveur.\n",
    "* *status* est le code retour du serveur à l'issue de la requête. Les codes retour sont standardisés (tous les <a href=\"https://fr.wikipedia.org/wiki/Liste_des_codes_HTTP\">codes</a>). Les plus courants sont:\n",
    "    * 200: Tout s'est bien déroulé.\n",
    "    * 401: Accès interdit.\n",
    "    * 404: Ressource introuvable.\n",
    "    * 500: Erreur de traitement sur le serveur."
   ]
  },
  {
   "cell_type": "code",
   "execution_count": 9,
   "metadata": {},
   "outputs": [
    {
     "data": {
      "application/javascript": [
       "const req = new XMLHttpRequest();\n",
       "element.append(\"Code de la requête: \" + req.readyState + \"<br>\");\n"
      ],
      "text/plain": [
       "<IPython.core.display.Javascript object>"
      ]
     },
     "metadata": {},
     "output_type": "display_data"
    }
   ],
   "source": [
    "%%javascript\n",
    "const req = new XMLHttpRequest();\n",
    "element.append(\"Code de la requête: \" + req.readyState + \"<br>\");"
   ]
  },
  {
   "cell_type": "markdown",
   "metadata": {},
   "source": [
    "L'objet XHR écoute deux événements\n",
    "* *onload* fonction qui se déclenche quand l'appel est terminé. \n",
    "* *onreadystatechange* fonction qui se déclenche à chaque fois que la propriété readyState est incrémentée."
   ]
  },
  {
   "cell_type": "code",
   "execution_count": 27,
   "metadata": {},
   "outputs": [
    {
     "data": {
      "application/javascript": [
       "const req = new XMLHttpRequest();\n",
       "\n",
       "req.addEventListener(\"readystatechange\", function(){\n",
       "    element.append(\"Code de la requête: \" + req.readyState + \"<br>\");\n",
       "    if(req.readyState === 4 && req.status == 200){\n",
       "        let res = JSON.parse(req.response);\n",
       "        element.append(res[\"value\"]);\n",
       "    }\n",
       "});\n",
       "\n",
       "req.open(\"GET\", \"https://api.chucknorris.io/jokes/random\", true);\n",
       "req.send();\n"
      ],
      "text/plain": [
       "<IPython.core.display.Javascript object>"
      ]
     },
     "metadata": {},
     "output_type": "display_data"
    }
   ],
   "source": [
    "%%javascript\n",
    "const req = new XMLHttpRequest();\n",
    "\n",
    "req.addEventListener(\"readystatechange\", function(){\n",
    "    element.append(\"Code de la requête: \" + req.readyState + \"<br>\");\n",
    "    if(req.readyState === 4 && req.status == 200){\n",
    "        let res = JSON.parse(req.response);\n",
    "        element.append(res[\"value\"]);\n",
    "    }\n",
    "});\n",
    "\n",
    "req.open(\"GET\", \"https://api.chucknorris.io/jokes/random\", true);\n",
    "req.send();\n"
   ]
  },
  {
   "cell_type": "markdown",
   "metadata": {},
   "source": [
    "TP: Structures de données"
   ]
  },
  {
   "cell_type": "code",
   "execution_count": 4,
   "metadata": {},
   "outputs": [
    {
     "data": {
      "application/json": {
       "cell": {
        "!": "OSMagics",
        "HTML": "Other",
        "SVG": "Other",
        "bash": "Other",
        "capture": "ExecutionMagics",
        "debug": "ExecutionMagics",
        "file": "Other",
        "html": "DisplayMagics",
        "javascript": "DisplayMagics",
        "js": "DisplayMagics",
        "latex": "DisplayMagics",
        "markdown": "DisplayMagics",
        "perl": "Other",
        "prun": "ExecutionMagics",
        "pypy": "Other",
        "python": "Other",
        "python2": "Other",
        "python3": "Other",
        "ruby": "Other",
        "script": "ScriptMagics",
        "sh": "Other",
        "svg": "DisplayMagics",
        "sx": "OSMagics",
        "system": "OSMagics",
        "time": "ExecutionMagics",
        "timeit": "ExecutionMagics",
        "writefile": "OSMagics"
       },
       "line": {
        "alias": "OSMagics",
        "alias_magic": "BasicMagics",
        "autoawait": "AsyncMagics",
        "autocall": "AutoMagics",
        "automagic": "AutoMagics",
        "autosave": "KernelMagics",
        "bookmark": "OSMagics",
        "cat": "Other",
        "cd": "OSMagics",
        "clear": "KernelMagics",
        "colors": "BasicMagics",
        "conda": "PackagingMagics",
        "config": "ConfigMagics",
        "connect_info": "KernelMagics",
        "cp": "Other",
        "debug": "ExecutionMagics",
        "dhist": "OSMagics",
        "dirs": "OSMagics",
        "doctest_mode": "BasicMagics",
        "ed": "Other",
        "edit": "KernelMagics",
        "env": "OSMagics",
        "gui": "BasicMagics",
        "hist": "Other",
        "history": "HistoryMagics",
        "killbgscripts": "ScriptMagics",
        "ldir": "Other",
        "less": "KernelMagics",
        "lf": "Other",
        "lk": "Other",
        "ll": "Other",
        "load": "CodeMagics",
        "load_ext": "ExtensionMagics",
        "loadpy": "CodeMagics",
        "logoff": "LoggingMagics",
        "logon": "LoggingMagics",
        "logstart": "LoggingMagics",
        "logstate": "LoggingMagics",
        "logstop": "LoggingMagics",
        "ls": "Other",
        "lsmagic": "BasicMagics",
        "lx": "Other",
        "macro": "ExecutionMagics",
        "magic": "BasicMagics",
        "man": "KernelMagics",
        "matplotlib": "PylabMagics",
        "mkdir": "Other",
        "more": "KernelMagics",
        "mv": "Other",
        "notebook": "BasicMagics",
        "page": "BasicMagics",
        "pastebin": "CodeMagics",
        "pdb": "ExecutionMagics",
        "pdef": "NamespaceMagics",
        "pdoc": "NamespaceMagics",
        "pfile": "NamespaceMagics",
        "pinfo": "NamespaceMagics",
        "pinfo2": "NamespaceMagics",
        "pip": "PackagingMagics",
        "popd": "OSMagics",
        "pprint": "BasicMagics",
        "precision": "BasicMagics",
        "prun": "ExecutionMagics",
        "psearch": "NamespaceMagics",
        "psource": "NamespaceMagics",
        "pushd": "OSMagics",
        "pwd": "OSMagics",
        "pycat": "OSMagics",
        "pylab": "PylabMagics",
        "qtconsole": "KernelMagics",
        "quickref": "BasicMagics",
        "recall": "HistoryMagics",
        "rehashx": "OSMagics",
        "reload_ext": "ExtensionMagics",
        "rep": "Other",
        "rerun": "HistoryMagics",
        "reset": "NamespaceMagics",
        "reset_selective": "NamespaceMagics",
        "rm": "Other",
        "rmdir": "Other",
        "run": "ExecutionMagics",
        "save": "CodeMagics",
        "sc": "OSMagics",
        "set_env": "OSMagics",
        "store": "StoreMagics",
        "sx": "OSMagics",
        "system": "OSMagics",
        "tb": "ExecutionMagics",
        "time": "ExecutionMagics",
        "timeit": "ExecutionMagics",
        "unalias": "OSMagics",
        "unload_ext": "ExtensionMagics",
        "who": "NamespaceMagics",
        "who_ls": "NamespaceMagics",
        "whos": "NamespaceMagics",
        "xdel": "NamespaceMagics",
        "xmode": "BasicMagics"
       }
      },
      "text/plain": [
       "Available line magics:\n",
       "%alias  %alias_magic  %autoawait  %autocall  %automagic  %autosave  %bookmark  %cat  %cd  %clear  %colors  %conda  %config  %connect_info  %cp  %debug  %dhist  %dirs  %doctest_mode  %ed  %edit  %env  %gui  %hist  %history  %killbgscripts  %ldir  %less  %lf  %lk  %ll  %load  %load_ext  %loadpy  %logoff  %logon  %logstart  %logstate  %logstop  %ls  %lsmagic  %lx  %macro  %magic  %man  %matplotlib  %mkdir  %more  %mv  %notebook  %page  %pastebin  %pdb  %pdef  %pdoc  %pfile  %pinfo  %pinfo2  %pip  %popd  %pprint  %precision  %prun  %psearch  %psource  %pushd  %pwd  %pycat  %pylab  %qtconsole  %quickref  %recall  %rehashx  %reload_ext  %rep  %rerun  %reset  %reset_selective  %rm  %rmdir  %run  %save  %sc  %set_env  %store  %sx  %system  %tb  %time  %timeit  %unalias  %unload_ext  %who  %who_ls  %whos  %xdel  %xmode\n",
       "\n",
       "Available cell magics:\n",
       "%%!  %%HTML  %%SVG  %%bash  %%capture  %%debug  %%file  %%html  %%javascript  %%js  %%latex  %%markdown  %%perl  %%prun  %%pypy  %%python  %%python2  %%python3  %%ruby  %%script  %%sh  %%svg  %%sx  %%system  %%time  %%timeit  %%writefile\n",
       "\n",
       "Automagic is ON, % prefix IS NOT needed for line magics."
      ]
     },
     "execution_count": 4,
     "metadata": {},
     "output_type": "execute_result"
    }
   ],
   "source": [
    "%lsmagic"
   ]
  },
  {
   "cell_type": "markdown",
   "metadata": {},
   "source": [
    "# Références\n",
    "\n",
    "Ressources Web:\n",
    "* freecodecamp.org\n",
    "* developer.mozilla.org\n",
    "\n",
    "Ressources littéraires:\n",
    "* Tout JavaScript de Olivier Hondermarck\n",
    "* Eloquent JavaScript de Marijn Haverbeke"
   ]
  },
  {
   "cell_type": "code",
   "execution_count": null,
   "metadata": {},
   "outputs": [],
   "source": []
  }
 ],
 "metadata": {
  "kernelspec": {
   "display_name": "Python 3",
   "language": "python",
   "name": "python3"
  },
  "language_info": {
   "codemirror_mode": {
    "name": "ipython",
    "version": 3
   },
   "file_extension": ".py",
   "mimetype": "text/x-python",
   "name": "python",
   "nbconvert_exporter": "python",
   "pygments_lexer": "ipython3",
   "version": "3.6.8"
  }
 },
 "nbformat": 4,
 "nbformat_minor": 2
}
