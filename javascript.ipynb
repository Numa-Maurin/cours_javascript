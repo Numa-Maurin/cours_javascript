{
 "cells": [
  {
   "cell_type": "markdown",
   "metadata": {},
   "source": [
    "# Introduction\n",
    "\n",
    "## JavaScript, c'est quoi\n",
    "\n",
    "Le JavaScript (initialement appelé LiveScript) est un langage de programmation **interprété**. Par conséquent, un programme, appelé interprètre ou moteur, traduit et exécute les instructions directement à partir du code source. Un moteur JavaScript est généralement intégré aux navigateurs Web. \n",
    "\n",
    "<hr>\n",
    "<div>\n",
    "    <img src=\"images/idea.png\" alt=\"idea\" width=\"30\" style=\"float:left; margin-right:15px;\"/> \n",
    "</div>\n",
    "Le premier moteur JavaScript, SpiderMonkey, a été créé par l'informaticien américain Brendan Eich pour le navigateur Netscape Navigator. Il était programmé en langage C. De nos jours de nouveaux moteurs ont fait leur apparition comme le V8 JavaScript développé par Google.\n",
    "<hr>\n",
    "\n",
    "Le JavaScript date de 1995 et il a été standardisé à partir de 1997 par l'organisation ECMA International (*European Association for Standardizing Information*) sous le nom de ECMAScript. Aujourd'hui, Javascript, JS, ECMASript ou ES désignent le même langage et la dernière version en date est ECMAScript 2018 ([w3schools.com](https://www.w3schools.com/js/js_versions.asp)).\n",
    "\n",
    "Le JavaScript est employé:\n",
    "* Pour concevoir des pages Web interactives et dynamiques et des applications complètes au format Web (*One Page Application* grâce aux *frameworks* Angular, ReactJS ou VueJS).\n",
    "* Pour concevoir des logiciels de bureau (Electron.js).\n",
    "* Comme plateforme serveur (Node.js).\n",
    "\n",
    "\n",
    "## Principe client/serveur\n",
    "\n",
    "<img src=\"images/client-serveur.jpeg\" alt=\"Client-Serveur\" style=\"margin-top:30px\"/> \n",
    "\n",
    "1. Le navigateur envoie une requête HTTP au serveur de google.fr.\n",
    "2. Le serveur construit le code HTML de la page demandée et le compresse.\n",
    "3. Le serveur envoie le code HTML dans une réponse à la requête HTTP du navigateur.\n",
    "4. Le navigateur reçoit en réponse le code HTML et le décompresse.\n",
    "5. Le navigateur interprète le code HTML ligne par ligne et commence l'affichage de la page.\n",
    "6. Le navigateur envoie de nouvelles requêtes vers le serveur pour chacun des éléments à charger (images, styles, scripts)\\*.\n",
    "7. Le rendu de la page est terminé.\n",
    "\n",
    "Le protocole HTTP/2 est une nouvelle version du protocole HTTP destinée à accélérer les transferts sur le réseau. Une seule requête peut maintenant contenir plusieurs ressources (images, vidéos, scripts, etc.) réduisant la latence et les temps de rendu de la page complète. \n",
    "\n",
    "<img src=\"images/http2.png\" alt=\"Client-Serveur\"/>\n",
    "\n",
    "Tous les objets connectés à internet communiquent entre eux grâce à leur adresse IP. Le protocole DNS (*Domain Name System*) traduit les noms de domaine en leur adresse IP. Le navigateur fait ainsi appel aux serveur DNS du fournisseur d'accès pour trouver l'adresse IP du serveur de la page demandée."
   ]
  },
  {
   "cell_type": "markdown",
   "metadata": {},
   "source": [
    "# Les bases de JavaScript\n",
    "\n",
    "Ce chapitre introduit toutes les notions de base liées au JavaScript et à sa syntaxe et au HTML5. Vous serez amenés à utiliser un éditeur de texte (*e.g.* l'éditeur [atom](https://atom.io/)) et un navigateur Web (*e.g.* Google Chrome). Au cours de ce chapitre différents exercices, symbolisés par l'image suivante, vous seront proposés.\n",
    "\n",
    "<img src=\"images/writing.png\" alt=\"writing\" width=\"30\"/>\n",
    "\n",
    "## *Hello World* \n",
    "\n",
    "<hr>\n",
    "<div>\n",
    "    <img src=\"images/writing.png\" alt=\"writing\" width=\"30\" style=\"float:left; margin-right:15px;\"/> \n",
    "</div>\n",
    "Créer un fichier intitulé <i>hello1.html</i> et inscriver le code suivant. Ensuite, accéder à la console de développement de votre navigateur (généralement F12).\n",
    "<hr>"
   ]
  },
  {
   "cell_type": "code",
   "execution_count": 7,
   "metadata": {},
   "outputs": [
    {
     "data": {
      "text/html": [
       "<html>\n",
       "  <head>\n",
       "    <title>Hello World</title>\n",
       "  </head>\n",
       "  <body>\n",
       "    <script type=\"text/javascript\">\n",
       "      // Commentaire du code JavaScript.\n",
       "      console.log(\"Hello World\");\n",
       "    </script>\n",
       "  </body>\n",
       "</html>\n"
      ],
      "text/plain": [
       "<IPython.core.display.HTML object>"
      ]
     },
     "metadata": {},
     "output_type": "display_data"
    }
   ],
   "source": [
    "%%HTML\n",
    "<html>\n",
    "  <head>\n",
    "    <title>Hello World</title>\n",
    "  </head>\n",
    "  <body>\n",
    "    <script type=\"text/javascript\">\n",
    "      // Un premier commentaire en JavaScript.\n",
    "      /*\n",
    "         Un seconde commentaire\n",
    "         en Javascript.\n",
    "      */\n",
    "      console.log(\"Hello World\");\n",
    "    </script>\n",
    "  </body>\n",
    "</html>"
   ]
  },
  {
   "cell_type": "markdown",
   "metadata": {},
   "source": [
    "Tirons des enseignements de l'exemple ci-dessus:\n",
    "* Une page HTML est constituée d'une balise &lt;head&gt; contenant tous les éléments de l’en-tête du document et d'une balise &lt;body&gt; représentant le contenu du document.\n",
    "* Le code JavaScript est intégré au code HTML classique d'une page Web.\n",
    "* Le JavaScript est placé dans le bloc marqué par les balises &lt;script&gt;.\n",
    "* Les deux façons d'ajouter un commentaire au sein d'un code JavaScript (// et /* */).\n",
    "* Le code JavaScript exploite la fonction *log()* de l'objet *console* pour afficher un message au sein de la console du navigateur.\n",
    "* Une instruction JavaScript se termine par un point-virgule (lorsqu'il n'est pas explicitement indiqué l'interprète exploite l'ASI (*Automatic Semicolon Insertion*) pour automatiquement ajouter les point-virgules. Cependant, prenez garde."
   ]
  },
  {
   "cell_type": "code",
   "execution_count": 13,
   "metadata": {},
   "outputs": [
    {
     "data": {
      "application/javascript": [
       "element.text((1+2).toString());\n"
      ],
      "text/plain": [
       "<IPython.core.display.Javascript object>"
      ]
     },
     "metadata": {},
     "output_type": "display_data"
    }
   ],
   "source": [
    "%%javascript\n",
    "element.text((1+2).toString());"
   ]
  },
  {
   "cell_type": "code",
   "execution_count": 12,
   "metadata": {},
   "outputs": [
    {
     "data": {
      "application/javascript": [
       "const a = 1\n",
       "const b = 2\n",
       "const c = a + b\n",
       "(a + b).toString()\n"
      ],
      "text/plain": [
       "<IPython.core.display.Javascript object>"
      ]
     },
     "metadata": {},
     "output_type": "display_data"
    }
   ],
   "source": [
    "%%javascript\n",
    "const a = 1\n",
    "const b = 2\n",
    "const c = a + b\n",
    "(a + b).toString()"
   ]
  },
  {
   "cell_type": "markdown",
   "metadata": {},
   "source": [
    "Nous obtenons une erreur car JavaScript tente d'exécuter le code suivant."
   ]
  },
  {
   "cell_type": "code",
   "execution_count": 11,
   "metadata": {},
   "outputs": [
    {
     "data": {
      "application/javascript": [
       "const a = 1\n",
       "const b = 2\n",
       "const c = a + b(a + b).toString()\n"
      ],
      "text/plain": [
       "<IPython.core.display.Javascript object>"
      ]
     },
     "metadata": {},
     "output_type": "display_data"
    }
   ],
   "source": [
    "%%javascript\n",
    "const a = 1\n",
    "const b = 2\n",
    "const c = a + b(a + b).toString()"
   ]
  },
  {
   "cell_type": "markdown",
   "metadata": {},
   "source": [
    "<hr>\n",
    "<div>\n",
    "    <img src=\"images/danger.png\" alt=\"danger\" width=\"30\" style=\"float:left; margin-right:15px;\"/> \n",
    "</div>\n",
    "L'instruction <i>element.text</i> n'appartient pas à JavaScript, elle est proposée par Jupyter pour afficher un résultat de JavaScript. Vous pouvez utiliser à la place <i>console.log()</i> pour afficher un message dans la console ou <i>alert()</i> pour afficher un message dans une <i>pop-up</i>.\n",
    "\n",
    "<hr>"
   ]
  },
  {
   "cell_type": "markdown",
   "metadata": {},
   "source": [
    "## Les variables\n",
    "\n",
    "Une variable est une zone de mémoire destinée à stocker une information. Elle est définit par un nom qui doit commencer par une lettre et pouvant contenir ensuite des lettres, en majuscules ou en minuscules, des chiffres et certains caractères spéciaux comme l'*underscore* \\_. Le caractère tiret \"-\" n'est pas autorisé car il correspond à l'opérateur de soustraction (de même pour le symbole \\*). Le nom d'une variable ne peut être un mot réservé par le langage comme *var*, *if* ou *window*.\n",
    "\n",
    "<hr>\n",
    "<div>\n",
    "    <img src=\"images/danger.png\" alt=\"danger\" width=\"30\" style=\"float:left; margin-right:15px;\"/> \n",
    "</div>\n",
    "Sensibilité à la casse (majuscule/minuscule).\n",
    "\n",
    "<hr>\n",
    "\n",
    "### Déclaration de variables\n",
    "\n",
    "La phase de création d'une variable est appelée *déclaration*. Tandis que la phase où une valeur est attribuée une variable est appelée *Instanciation*. En JavaScript, il existe 2 mots-clés pour déclarer une variable <u>*var*</u> et <u>*let*</u>."
   ]
  },
  {
   "cell_type": "code",
   "execution_count": 26,
   "metadata": {},
   "outputs": [
    {
     "data": {
      "application/javascript": [
       "var compteur1 = 0;\n",
       "var compteur2 = 0, texte = \"Hello\", maxi;\n",
       "maxi = 100;\n"
      ],
      "text/plain": [
       "<IPython.core.display.Javascript object>"
      ]
     },
     "metadata": {},
     "output_type": "display_data"
    }
   ],
   "source": [
    "%%javascript\n",
    "var compteur1 = 0;\n",
    "var compteur2 = 0, texte = \"Hello\", maxi;\n",
    "maxi = 100;"
   ]
  },
  {
   "cell_type": "markdown",
   "metadata": {},
   "source": [
    "La différence entre les notations *var* et *let* réside sur la portée de la variable au sein du code. Le mot-clé *var* permet de déclarer une variable visible dans l'ensemble du code. La **portée** d'une variable est l'ensemble des éléments du code source où la variable existe et est manipulable."
   ]
  },
  {
   "cell_type": "code",
   "execution_count": 29,
   "metadata": {},
   "outputs": [
    {
     "data": {
      "application/javascript": [
       "for(var i = 0; i < 2; i++){\n",
       "    element.append(i + \"<br>\");\n",
       "}\n",
       "element.append(\"La variable i = \" + i);\n"
      ],
      "text/plain": [
       "<IPython.core.display.Javascript object>"
      ]
     },
     "metadata": {},
     "output_type": "display_data"
    }
   ],
   "source": [
    "%%javascript\n",
    "for(var i = 0; i < 2; i++){\n",
    "    element.append(i + \"<br>\");\n",
    "}\n",
    "element.append(\"La variable i = \" + i);"
   ]
  },
  {
   "cell_type": "markdown",
   "metadata": {},
   "source": [
    "Tandis que le mot-clé *let* permet de déclarer des variables visibles uniquement au sein du bloc d'instructions dans lequel elle a été définie."
   ]
  },
  {
   "cell_type": "code",
   "execution_count": 33,
   "metadata": {},
   "outputs": [
    {
     "data": {
      "application/javascript": [
       "for(let i = 0; i < 2; i++){\n",
       "    element.append(`${i} <br>`);\n",
       "}\n",
       "element.append(\"La variable i = \" + i);\n"
      ],
      "text/plain": [
       "<IPython.core.display.Javascript object>"
      ]
     },
     "metadata": {},
     "output_type": "display_data"
    }
   ],
   "source": [
    "%%javascript\n",
    "for(let i = 0; i < 2; i++){\n",
    "    element.append(`${i} <br>`);\n",
    "}\n",
    "element.append(\"La variable i = \" + i);"
   ]
  },
  {
   "cell_type": "markdown",
   "metadata": {},
   "source": [
    "<hr>\n",
    "<div>\n",
    "    <img src=\"images/idea.png\" alt=\"idea\" width=\"30\" style=\"float:left; margin-right:15px;\"/> \n",
    "</div>\n",
    "Pour afficer du texte avec des variables, vous pouvez utiliser la concaténation avec le symbole \"+\" <i>e.g. \"text\" + var</i> ou alors la syntaxe (instaurée lors de la version ES6) avec les <i>backquote e.g. `text ${var}`<i>.\n",
    "<hr>"
   ]
  },
  {
   "cell_type": "markdown",
   "metadata": {},
   "source": [
    "### Les types de variables\n",
    "\n",
    "Le langage JavaScript est faiblement typé, c'est-à-dire qu'il autorise une variable à contenir n'importe quel type de données et à en changer en cours d'exécution. L'opérateur *typeof* permet d'identifier la nature d'une variable."
   ]
  },
  {
   "cell_type": "code",
   "execution_count": 41,
   "metadata": {
    "scrolled": true
   },
   "outputs": [
    {
     "data": {
      "application/javascript": [
       "var a = 2;\n",
       "element.append(`${typeof a} <br>`);\n",
       "a = a + \"3\";\n",
       "element.append(`${a} <br> ${typeof a}`);\n",
       "var b;\n",
       "element.append(`<br> ${typeof b}`);\n"
      ],
      "text/plain": [
       "<IPython.core.display.Javascript object>"
      ]
     },
     "metadata": {},
     "output_type": "display_data"
    }
   ],
   "source": [
    "%%javascript\n",
    "var a = 2;\n",
    "element.append(`${typeof a} <br>`);\n",
    "a = a + \"3\";\n",
    "element.append(`${a} <br> ${typeof a}`);\n",
    "var b;\n",
    "element.append(`<br> ${typeof b}`);"
   ]
  },
  {
   "cell_type": "markdown",
   "metadata": {},
   "source": [
    "JavaScript présente les types suivants:\n",
    "* **undefined** par exemple lorsqu'une variable est déclarée sans être initialisée.\n",
    "* **number** qui englobe tous les différents types de nombres (*integer*, *float*, *double*, etc.).\n",
    "* **string** désignant les chaînes de caractères.\n",
    "* **object** qui est un type générique pour définir une structure de données complexe.\n",
    "* **boolean** pour symboliser les états *true* et *false*.\n",
    "* **null** représente la nullité au sens où aucune valeur pour l'objet n'est présente.\n",
    "* **symbol** représente une donnée unique et inchangeable qui peut être utilisée afin de représenter des identifiants pour des propriétés d'un objet.\n",
    "\n",
    "<hr>\n",
    "<div>\n",
    "    <img src=\"images/danger.png\" alt=\"danger\" width=\"30\" style=\"float:left; margin-right:15px;\"/> \n",
    "</div>\n",
    "L'opérateur <i>typeof</i> affiche le type <i>object</i> pour une variable instanciée avec le type <i>null</i>.\n",
    "\n",
    "<hr>"
   ]
  },
  {
   "cell_type": "code",
   "execution_count": 51,
   "metadata": {},
   "outputs": [
    {
     "data": {
      "application/javascript": [
       "var test = null == undefined;\n",
       "element.append(\"null == undefined: \" + test + \"<br>\");\n",
       "test = null === undefined;\n",
       "element.append(\"null === undefined: \" + test + \"<br>\");\n",
       "test = typeof null;\n",
       "element.append(\"typeof null: \" + test + \"<br>\");\n"
      ],
      "text/plain": [
       "<IPython.core.display.Javascript object>"
      ]
     },
     "metadata": {},
     "output_type": "display_data"
    }
   ],
   "source": [
    "%%javascript\n",
    "var test = null == undefined;\n",
    "element.append(\"null == undefined: \" + test + \"<br>\");\n",
    "test = null === undefined;\n",
    "element.append(\"null === undefined: \" + test + \"<br>\");\n",
    "test = typeof null;\n",
    "element.append(\"typeof null: \" + test + \"<br>\");"
   ]
  },
  {
   "cell_type": "markdown",
   "metadata": {},
   "source": [
    "<hr>\n",
    "<div>\n",
    "    <img src=\"images/idea.png\" alt=\"idea\" width=\"30\" style=\"float:left; margin-right:15px;\"/> \n",
    "</div>\n",
    "L'opérateur \"==\" teste l'égalité de valeur entre deux variables et l'opérateur \"===\" teste l'égalité de valeur et de type entre deux variables.\n",
    "<hr>\n",
    "\n",
    "### Les constantes\n",
    "\n",
    "Une constante est comparable à une valeur qui ne peut être modifiée une fois créée. Elle nécessite une valeur d'initialisation obligatoire."
   ]
  },
  {
   "cell_type": "code",
   "execution_count": 53,
   "metadata": {},
   "outputs": [
    {
     "data": {
      "application/javascript": [
       "const a = 2;\n",
       "element.text(a);\n",
       "a = 3;\n"
      ],
      "text/plain": [
       "<IPython.core.display.Javascript object>"
      ]
     },
     "metadata": {},
     "output_type": "display_data"
    }
   ],
   "source": [
    "%%javascript\n",
    "const a = 2;\n",
    "element.text(a);\n",
    "a = 3;"
   ]
  },
  {
   "cell_type": "markdown",
   "metadata": {},
   "source": [
    "## Les nombres\n",
    "\n",
    "### Opérations élémentaires"
   ]
  },
  {
   "cell_type": "code",
   "execution_count": 65,
   "metadata": {},
   "outputs": [
    {
     "data": {
      "application/javascript": [
       "var a = 3 + 2;\n",
       "var b = 4 * 2;\n",
       "var c = 5 / 2;\n",
       "var d = 6 % 2;\n",
       "element.text(`${a}; ${b}; ${c}; ${d}`);\n"
      ],
      "text/plain": [
       "<IPython.core.display.Javascript object>"
      ]
     },
     "metadata": {},
     "output_type": "display_data"
    }
   ],
   "source": [
    "%%javascript\n",
    "var a = 3 + 2;\n",
    "var b = 4 * 2;\n",
    "var c = 5 / 2;\n",
    "var d = 6 % 2;\n",
    "element.text(`${a}; ${b}; ${c}; ${d}`);"
   ]
  },
  {
   "cell_type": "markdown",
   "metadata": {},
   "source": [
    "### Incrémentation et décrémentation"
   ]
  },
  {
   "cell_type": "code",
   "execution_count": 64,
   "metadata": {},
   "outputs": [
    {
     "data": {
      "application/javascript": [
       "var a = 1;\n",
       "a = a + 1;\n",
       "a += 1;\n",
       "a++;\n",
       "a = a - 1;\n",
       "a -= 1;\n",
       "a--;\n",
       "element.append(`a = ${a} <br>`);\n",
       "a *= 2;\n",
       "element.append(`a = ${a} <br>`);\n",
       "a /= 2;\n",
       "element.append(`a = ${a} <br>`);\n"
      ],
      "text/plain": [
       "<IPython.core.display.Javascript object>"
      ]
     },
     "metadata": {},
     "output_type": "display_data"
    }
   ],
   "source": [
    "%%javascript\n",
    "var a = 1;\n",
    "a = a + 1;\n",
    "a += 1;\n",
    "a++;\n",
    "a = a - 1;\n",
    "a -= 1;\n",
    "a--;\n",
    "element.append(`a = ${a} <br>`);\n",
    "a *= 2;\n",
    "element.append(`a = ${a} <br>`);\n",
    "a /= 2;\n",
    "element.append(`a = ${a} <br>`);"
   ]
  },
  {
   "cell_type": "markdown",
   "metadata": {},
   "source": [
    "## Les chaînes de caractères\n",
    "\n",
    "Une chaîne de caractères est une succession ordonnée de caractères de texte. Une chaîne est matérialisée par des séparateurs qui indiquent le début et la fin de la chaîne. Une chaîne ne contenant aucun caractère est une chaîne vide. De plus, les chaînes de caractères en JavaScript sont non mutables (contrairement à Python par exemple).\n",
    "\n",
    "### Déclarer une chaîne de caractères"
   ]
  },
  {
   "cell_type": "code",
   "execution_count": 74,
   "metadata": {},
   "outputs": [
    {
     "data": {
      "application/javascript": [
       "var a = \"Chaîne de caractères.\";\n",
       "var b = 'Chaîne de \"caractères\".';\n",
       "var c = \"Chaîne de \\\"caractères\\\".\";\n",
       "var d = `Cha'î'ne de \"caractères\".`;\n",
       "element.append(`${a} <br> ${b} <br> ${c} <br>`);\n",
       "element.append(d);\n"
      ],
      "text/plain": [
       "<IPython.core.display.Javascript object>"
      ]
     },
     "metadata": {},
     "output_type": "display_data"
    }
   ],
   "source": [
    "%%javascript\n",
    "var a = \"Chaîne de caractères.\";\n",
    "var b = 'Chaîne de \"caractères\".';\n",
    "var c = \"Chaîne de \\\"caractères\\\".\";\n",
    "var d = `Cha'î'ne de \"caractères\".`;\n",
    "element.append(`${a} <br> ${b} <br> ${c} <br>`);\n",
    "element.append(d);"
   ]
  },
  {
   "cell_type": "markdown",
   "metadata": {},
   "source": [
    "### Conversion de types\n",
    "\n",
    "Une chaîne de caractères peut aussi être créee à partir de tout objet JavaScript et de sa méthode de conversion vers une chaîne *toString()*."
   ]
  },
  {
   "cell_type": "code",
   "execution_count": 80,
   "metadata": {},
   "outputs": [
    {
     "data": {
      "application/javascript": [
       "var date = new Date();\n",
       "var nombre1 = 2;\n",
       "var nombre2 = 2 + \"\"\n",
       "var tableau = [1,2,3];\n",
       "element.text(date.toString() + \" | \" + nombre1.toString() + \" | \" + typeof nombre2 + \" | \" + tableau.toString());\n"
      ],
      "text/plain": [
       "<IPython.core.display.Javascript object>"
      ]
     },
     "metadata": {},
     "output_type": "display_data"
    }
   ],
   "source": [
    "%%javascript\n",
    "var date = new Date();\n",
    "var nombre1 = 2;\n",
    "var nombre2 = 2 + \"\"\n",
    "var tableau = [1,2,3];\n",
    "element.text(date.toString() + \" | \" + nombre1.toString() + \" | \" + typeof nombre2 + \" | \" + tableau.toString());"
   ]
  },
  {
   "cell_type": "markdown",
   "metadata": {},
   "source": [
    "### Concaténation de chaînes"
   ]
  },
  {
   "cell_type": "code",
   "execution_count": 78,
   "metadata": {},
   "outputs": [
    {
     "data": {
      "application/javascript": [
       "var str1 = \"Java\";\n",
       "var str2 = \"Script\";\n",
       "var str3 = str1 + str2;\n",
       "element.append(`${str3} <br>`);\n",
       "str1 += str2;\n",
       "element.append(`${str1} <br>`);\n"
      ],
      "text/plain": [
       "<IPython.core.display.Javascript object>"
      ]
     },
     "metadata": {},
     "output_type": "display_data"
    }
   ],
   "source": [
    "%%javascript\n",
    "var str1 = \"Java\";\n",
    "var str2 = \"Script\";\n",
    "var str3 = str1 + str2;\n",
    "element.append(`${str3} <br>`);\n",
    "str1 += str2;\n",
    "element.append(`${str1} <br>`);"
   ]
  },
  {
   "cell_type": "markdown",
   "metadata": {},
   "source": [
    "### Fonctions associées à l'objet *string*\n",
    "\n",
    "Une chaîne de caractères possèdent les propriétés et les méthodes issues de l'objet *string*."
   ]
  },
  {
   "cell_type": "markdown",
   "metadata": {},
   "source": [
    "#### Longueur d'une chaîne"
   ]
  },
  {
   "cell_type": "code",
   "execution_count": 81,
   "metadata": {},
   "outputs": [
    {
     "data": {
      "application/javascript": [
       "var str = \"JavaScript\";\n",
       "element.append(str.length + \"<br>\");\n",
       "element.append(\"str\".length + \"<br>\");\n",
       "element.append(\"\".length + \"<br>\");\n"
      ],
      "text/plain": [
       "<IPython.core.display.Javascript object>"
      ]
     },
     "metadata": {},
     "output_type": "display_data"
    }
   ],
   "source": [
    "%%javascript\n",
    "var str = \"JavaScript\";\n",
    "element.append(str.length + \"<br>\");\n",
    "element.append(\"str\".length + \"<br>\");\n",
    "element.append(\"\".length + \"<br>\");"
   ]
  },
  {
   "cell_type": "markdown",
   "metadata": {},
   "source": [
    "#### Majuscules et minuscules"
   ]
  },
  {
   "cell_type": "code",
   "execution_count": 83,
   "metadata": {},
   "outputs": [
    {
     "data": {
      "application/javascript": [
       "var msg = \"JavaScript\";\n",
       "element.append(msg.toUpperCase() + \"<br>\");\n",
       "element.append(msg.toLowerCase());\n"
      ],
      "text/plain": [
       "<IPython.core.display.Javascript object>"
      ]
     },
     "metadata": {},
     "output_type": "display_data"
    }
   ],
   "source": [
    "%%javascript\n",
    "var msg = \"JavaScript\";\n",
    "element.append(msg.toUpperCase() + \"<br>\");\n",
    "element.append(msg.toLowerCase());"
   ]
  },
  {
   "cell_type": "markdown",
   "metadata": {},
   "source": [
    "#### Nettoyer une chaîne de caractères\n",
    "\n",
    "La fonction *trim()* permet de nettoyer la chaîne de ses caractères inutiles en début et en fin en supprimant les espaces, tabulations et retour chariot."
   ]
  },
  {
   "cell_type": "markdown",
   "metadata": {},
   "source": [
    "#### Accéder à un caractère précis"
   ]
  },
  {
   "cell_type": "code",
   "execution_count": 89,
   "metadata": {},
   "outputs": [
    {
     "data": {
      "application/javascript": [
       "var msg = \"Javascript !\";\n",
       "element.append(msg[0] + \"<br>\");\n",
       "element.append(msg.charAt(0) + \"<br>\");\n"
      ],
      "text/plain": [
       "<IPython.core.display.Javascript object>"
      ]
     },
     "metadata": {},
     "output_type": "display_data"
    }
   ],
   "source": [
    "%%javascript\n",
    "var msg = \"Javascript !\";\n",
    "element.append(msg[0] + \"<br>\");\n",
    "element.append(msg.charAt(0) + \"<br>\");"
   ]
  },
  {
   "cell_type": "markdown",
   "metadata": {},
   "source": [
    "#### Rechercher dans un chaîne"
   ]
  },
  {
   "cell_type": "code",
   "execution_count": null,
   "metadata": {},
   "outputs": [],
   "source": [
    "%%javascript"
   ]
  },
  {
   "cell_type": "markdown",
   "metadata": {},
   "source": [
    "TP: Structures de données"
   ]
  },
  {
   "cell_type": "code",
   "execution_count": 23,
   "metadata": {},
   "outputs": [
    {
     "data": {
      "application/javascript": [
       "class node(){\n",
       "    \n",
       "}\n"
      ],
      "text/plain": [
       "<IPython.core.display.Javascript object>"
      ]
     },
     "metadata": {},
     "output_type": "display_data"
    }
   ],
   "source": [
    "%%javascript\n",
    "class node(){\n",
    "    \n",
    "}"
   ]
  },
  {
   "cell_type": "code",
   "execution_count": 4,
   "metadata": {},
   "outputs": [
    {
     "data": {
      "application/json": {
       "cell": {
        "!": "OSMagics",
        "HTML": "Other",
        "SVG": "Other",
        "bash": "Other",
        "capture": "ExecutionMagics",
        "debug": "ExecutionMagics",
        "file": "Other",
        "html": "DisplayMagics",
        "javascript": "DisplayMagics",
        "js": "DisplayMagics",
        "latex": "DisplayMagics",
        "markdown": "DisplayMagics",
        "perl": "Other",
        "prun": "ExecutionMagics",
        "pypy": "Other",
        "python": "Other",
        "python2": "Other",
        "python3": "Other",
        "ruby": "Other",
        "script": "ScriptMagics",
        "sh": "Other",
        "svg": "DisplayMagics",
        "sx": "OSMagics",
        "system": "OSMagics",
        "time": "ExecutionMagics",
        "timeit": "ExecutionMagics",
        "writefile": "OSMagics"
       },
       "line": {
        "alias": "OSMagics",
        "alias_magic": "BasicMagics",
        "autoawait": "AsyncMagics",
        "autocall": "AutoMagics",
        "automagic": "AutoMagics",
        "autosave": "KernelMagics",
        "bookmark": "OSMagics",
        "cat": "Other",
        "cd": "OSMagics",
        "clear": "KernelMagics",
        "colors": "BasicMagics",
        "conda": "PackagingMagics",
        "config": "ConfigMagics",
        "connect_info": "KernelMagics",
        "cp": "Other",
        "debug": "ExecutionMagics",
        "dhist": "OSMagics",
        "dirs": "OSMagics",
        "doctest_mode": "BasicMagics",
        "ed": "Other",
        "edit": "KernelMagics",
        "env": "OSMagics",
        "gui": "BasicMagics",
        "hist": "Other",
        "history": "HistoryMagics",
        "killbgscripts": "ScriptMagics",
        "ldir": "Other",
        "less": "KernelMagics",
        "lf": "Other",
        "lk": "Other",
        "ll": "Other",
        "load": "CodeMagics",
        "load_ext": "ExtensionMagics",
        "loadpy": "CodeMagics",
        "logoff": "LoggingMagics",
        "logon": "LoggingMagics",
        "logstart": "LoggingMagics",
        "logstate": "LoggingMagics",
        "logstop": "LoggingMagics",
        "ls": "Other",
        "lsmagic": "BasicMagics",
        "lx": "Other",
        "macro": "ExecutionMagics",
        "magic": "BasicMagics",
        "man": "KernelMagics",
        "matplotlib": "PylabMagics",
        "mkdir": "Other",
        "more": "KernelMagics",
        "mv": "Other",
        "notebook": "BasicMagics",
        "page": "BasicMagics",
        "pastebin": "CodeMagics",
        "pdb": "ExecutionMagics",
        "pdef": "NamespaceMagics",
        "pdoc": "NamespaceMagics",
        "pfile": "NamespaceMagics",
        "pinfo": "NamespaceMagics",
        "pinfo2": "NamespaceMagics",
        "pip": "PackagingMagics",
        "popd": "OSMagics",
        "pprint": "BasicMagics",
        "precision": "BasicMagics",
        "prun": "ExecutionMagics",
        "psearch": "NamespaceMagics",
        "psource": "NamespaceMagics",
        "pushd": "OSMagics",
        "pwd": "OSMagics",
        "pycat": "OSMagics",
        "pylab": "PylabMagics",
        "qtconsole": "KernelMagics",
        "quickref": "BasicMagics",
        "recall": "HistoryMagics",
        "rehashx": "OSMagics",
        "reload_ext": "ExtensionMagics",
        "rep": "Other",
        "rerun": "HistoryMagics",
        "reset": "NamespaceMagics",
        "reset_selective": "NamespaceMagics",
        "rm": "Other",
        "rmdir": "Other",
        "run": "ExecutionMagics",
        "save": "CodeMagics",
        "sc": "OSMagics",
        "set_env": "OSMagics",
        "store": "StoreMagics",
        "sx": "OSMagics",
        "system": "OSMagics",
        "tb": "ExecutionMagics",
        "time": "ExecutionMagics",
        "timeit": "ExecutionMagics",
        "unalias": "OSMagics",
        "unload_ext": "ExtensionMagics",
        "who": "NamespaceMagics",
        "who_ls": "NamespaceMagics",
        "whos": "NamespaceMagics",
        "xdel": "NamespaceMagics",
        "xmode": "BasicMagics"
       }
      },
      "text/plain": [
       "Available line magics:\n",
       "%alias  %alias_magic  %autoawait  %autocall  %automagic  %autosave  %bookmark  %cat  %cd  %clear  %colors  %conda  %config  %connect_info  %cp  %debug  %dhist  %dirs  %doctest_mode  %ed  %edit  %env  %gui  %hist  %history  %killbgscripts  %ldir  %less  %lf  %lk  %ll  %load  %load_ext  %loadpy  %logoff  %logon  %logstart  %logstate  %logstop  %ls  %lsmagic  %lx  %macro  %magic  %man  %matplotlib  %mkdir  %more  %mv  %notebook  %page  %pastebin  %pdb  %pdef  %pdoc  %pfile  %pinfo  %pinfo2  %pip  %popd  %pprint  %precision  %prun  %psearch  %psource  %pushd  %pwd  %pycat  %pylab  %qtconsole  %quickref  %recall  %rehashx  %reload_ext  %rep  %rerun  %reset  %reset_selective  %rm  %rmdir  %run  %save  %sc  %set_env  %store  %sx  %system  %tb  %time  %timeit  %unalias  %unload_ext  %who  %who_ls  %whos  %xdel  %xmode\n",
       "\n",
       "Available cell magics:\n",
       "%%!  %%HTML  %%SVG  %%bash  %%capture  %%debug  %%file  %%html  %%javascript  %%js  %%latex  %%markdown  %%perl  %%prun  %%pypy  %%python  %%python2  %%python3  %%ruby  %%script  %%sh  %%svg  %%sx  %%system  %%time  %%timeit  %%writefile\n",
       "\n",
       "Automagic is ON, % prefix IS NOT needed for line magics."
      ]
     },
     "execution_count": 4,
     "metadata": {},
     "output_type": "execute_result"
    }
   ],
   "source": [
    "%lsmagic"
   ]
  },
  {
   "cell_type": "code",
   "execution_count": 8,
   "metadata": {},
   "outputs": [
    {
     "data": {
      "text/html": [
       "<div id=\"lol\">\n",
       "    toc\n",
       "</div>\n",
       "\n",
       "<script>\n",
       "    document.getElementById(\"lol\").innerHTML = \"SISI\";\n",
       "</script>\n"
      ],
      "text/plain": [
       "<IPython.core.display.HTML object>"
      ]
     },
     "metadata": {},
     "output_type": "display_data"
    }
   ],
   "source": [
    "%%HTML\n",
    "<div id=\"lol\">\n",
    "    toc\n",
    "</div>\n",
    "\n",
    "<script>\n",
    "    document.getElementById(\"lol\").innerHTML = \"SISI\";\n",
    "</script>"
   ]
  },
  {
   "cell_type": "markdown",
   "metadata": {},
   "source": [
    "# Références\n",
    "\n",
    "Ressources Web:\n",
    "* freecodecamp.org\n",
    "* disko.fr\n",
    "\n",
    "Ressources littéraires:\n",
    "* Tout JavaScript de Olivier Hondermarck\n",
    "* Eloquent JavaScript de Marijn Haverbeke"
   ]
  },
  {
   "cell_type": "code",
   "execution_count": null,
   "metadata": {},
   "outputs": [],
   "source": []
  }
 ],
 "metadata": {
  "kernelspec": {
   "display_name": "Python 3",
   "language": "python",
   "name": "python3"
  },
  "language_info": {
   "codemirror_mode": {
    "name": "ipython",
    "version": 3
   },
   "file_extension": ".py",
   "mimetype": "text/x-python",
   "name": "python",
   "nbconvert_exporter": "python",
   "pygments_lexer": "ipython3",
   "version": "3.6.8"
  }
 },
 "nbformat": 4,
 "nbformat_minor": 2
}
